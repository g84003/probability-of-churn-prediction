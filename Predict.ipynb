{
 "cells": [
  {
   "cell_type": "markdown",
   "id": "a40015d9",
   "metadata": {},
   "source": [
    "## Model Fitness gym. Customer retention strategy <a class=\"tocSkip\">"
   ]
  },
  {
   "cell_type": "markdown",
   "id": "98181e60",
   "metadata": {},
   "source": [
    "## Introduction <a class=\"tocSkip\">\n",
    "The gym chain Model Fitness is developing a customer interaction strategy in order for marketing department to reduce churn level. <br> We will analyse: 4000 customer profile statistics that Model Fitness has digitized for a 1 month period\n",
    "    <br> We will study: customer interaction based on analytical data from the customer profiles"
   ]
  },
  {
   "cell_type": "markdown",
   "id": "834e0ecf",
   "metadata": {},
   "source": [
    "## Step 1. Reading the data<a class=\"tocSkip\">"
   ]
  },
  {
   "cell_type": "code",
   "execution_count": 37,
   "id": "0e90c71d",
   "metadata": {},
   "outputs": [],
   "source": [
    "import pandas as pd\n",
    "import numpy as np\n",
    "import matplotlib.pyplot as plt\n",
    "\n",
    "\n",
    "from sklearn.cluster import KMeans\n",
    "try:\n",
    "    data = pd.read_csv('C:/Users/Anait Akopyan/Desktop/Yclass/Module2/gym_churn_us.csv')\n",
    "    \n",
    "except:\n",
    "    data = pd.read_csv('/datasets/gym_churn_us.csv')"
   ]
  },
  {
   "cell_type": "code",
   "execution_count": 38,
   "id": "0a278982",
   "metadata": {},
   "outputs": [
    {
     "data": {
      "text/html": [
       "<div>\n",
       "<style scoped>\n",
       "    .dataframe tbody tr th:only-of-type {\n",
       "        vertical-align: middle;\n",
       "    }\n",
       "\n",
       "    .dataframe tbody tr th {\n",
       "        vertical-align: top;\n",
       "    }\n",
       "\n",
       "    .dataframe thead th {\n",
       "        text-align: right;\n",
       "    }\n",
       "</style>\n",
       "<table border=\"1\" class=\"dataframe\">\n",
       "  <thead>\n",
       "    <tr style=\"text-align: right;\">\n",
       "      <th></th>\n",
       "      <th>gender</th>\n",
       "      <th>Near_Location</th>\n",
       "      <th>Partner</th>\n",
       "      <th>Promo_friends</th>\n",
       "      <th>Phone</th>\n",
       "      <th>Contract_period</th>\n",
       "      <th>Group_visits</th>\n",
       "      <th>Age</th>\n",
       "      <th>Avg_additional_charges_total</th>\n",
       "      <th>Month_to_end_contract</th>\n",
       "      <th>Lifetime</th>\n",
       "      <th>Avg_class_frequency_total</th>\n",
       "      <th>Avg_class_frequency_current_month</th>\n",
       "      <th>Churn</th>\n",
       "    </tr>\n",
       "  </thead>\n",
       "  <tbody>\n",
       "    <tr>\n",
       "      <th>0</th>\n",
       "      <td>1</td>\n",
       "      <td>1</td>\n",
       "      <td>1</td>\n",
       "      <td>1</td>\n",
       "      <td>0</td>\n",
       "      <td>6</td>\n",
       "      <td>1</td>\n",
       "      <td>29</td>\n",
       "      <td>14.227470</td>\n",
       "      <td>5.0</td>\n",
       "      <td>3</td>\n",
       "      <td>0.020398</td>\n",
       "      <td>0.000000</td>\n",
       "      <td>0</td>\n",
       "    </tr>\n",
       "    <tr>\n",
       "      <th>1</th>\n",
       "      <td>0</td>\n",
       "      <td>1</td>\n",
       "      <td>0</td>\n",
       "      <td>0</td>\n",
       "      <td>1</td>\n",
       "      <td>12</td>\n",
       "      <td>1</td>\n",
       "      <td>31</td>\n",
       "      <td>113.202938</td>\n",
       "      <td>12.0</td>\n",
       "      <td>7</td>\n",
       "      <td>1.922936</td>\n",
       "      <td>1.910244</td>\n",
       "      <td>0</td>\n",
       "    </tr>\n",
       "    <tr>\n",
       "      <th>2</th>\n",
       "      <td>0</td>\n",
       "      <td>1</td>\n",
       "      <td>1</td>\n",
       "      <td>0</td>\n",
       "      <td>1</td>\n",
       "      <td>1</td>\n",
       "      <td>0</td>\n",
       "      <td>28</td>\n",
       "      <td>129.448479</td>\n",
       "      <td>1.0</td>\n",
       "      <td>2</td>\n",
       "      <td>1.859098</td>\n",
       "      <td>1.736502</td>\n",
       "      <td>0</td>\n",
       "    </tr>\n",
       "    <tr>\n",
       "      <th>3</th>\n",
       "      <td>0</td>\n",
       "      <td>1</td>\n",
       "      <td>1</td>\n",
       "      <td>1</td>\n",
       "      <td>1</td>\n",
       "      <td>12</td>\n",
       "      <td>1</td>\n",
       "      <td>33</td>\n",
       "      <td>62.669863</td>\n",
       "      <td>12.0</td>\n",
       "      <td>2</td>\n",
       "      <td>3.205633</td>\n",
       "      <td>3.357215</td>\n",
       "      <td>0</td>\n",
       "    </tr>\n",
       "    <tr>\n",
       "      <th>4</th>\n",
       "      <td>1</td>\n",
       "      <td>1</td>\n",
       "      <td>1</td>\n",
       "      <td>1</td>\n",
       "      <td>1</td>\n",
       "      <td>1</td>\n",
       "      <td>0</td>\n",
       "      <td>26</td>\n",
       "      <td>198.362265</td>\n",
       "      <td>1.0</td>\n",
       "      <td>3</td>\n",
       "      <td>1.113884</td>\n",
       "      <td>1.120078</td>\n",
       "      <td>0</td>\n",
       "    </tr>\n",
       "    <tr>\n",
       "      <th>...</th>\n",
       "      <td>...</td>\n",
       "      <td>...</td>\n",
       "      <td>...</td>\n",
       "      <td>...</td>\n",
       "      <td>...</td>\n",
       "      <td>...</td>\n",
       "      <td>...</td>\n",
       "      <td>...</td>\n",
       "      <td>...</td>\n",
       "      <td>...</td>\n",
       "      <td>...</td>\n",
       "      <td>...</td>\n",
       "      <td>...</td>\n",
       "      <td>...</td>\n",
       "    </tr>\n",
       "    <tr>\n",
       "      <th>3995</th>\n",
       "      <td>1</td>\n",
       "      <td>1</td>\n",
       "      <td>1</td>\n",
       "      <td>0</td>\n",
       "      <td>1</td>\n",
       "      <td>12</td>\n",
       "      <td>0</td>\n",
       "      <td>33</td>\n",
       "      <td>2.406023</td>\n",
       "      <td>12.0</td>\n",
       "      <td>8</td>\n",
       "      <td>2.284497</td>\n",
       "      <td>2.349070</td>\n",
       "      <td>0</td>\n",
       "    </tr>\n",
       "    <tr>\n",
       "      <th>3996</th>\n",
       "      <td>0</td>\n",
       "      <td>1</td>\n",
       "      <td>0</td>\n",
       "      <td>0</td>\n",
       "      <td>1</td>\n",
       "      <td>1</td>\n",
       "      <td>1</td>\n",
       "      <td>29</td>\n",
       "      <td>68.883764</td>\n",
       "      <td>1.0</td>\n",
       "      <td>1</td>\n",
       "      <td>1.277168</td>\n",
       "      <td>0.292859</td>\n",
       "      <td>1</td>\n",
       "    </tr>\n",
       "    <tr>\n",
       "      <th>3997</th>\n",
       "      <td>1</td>\n",
       "      <td>1</td>\n",
       "      <td>1</td>\n",
       "      <td>1</td>\n",
       "      <td>1</td>\n",
       "      <td>12</td>\n",
       "      <td>0</td>\n",
       "      <td>28</td>\n",
       "      <td>78.250542</td>\n",
       "      <td>11.0</td>\n",
       "      <td>2</td>\n",
       "      <td>2.786146</td>\n",
       "      <td>2.831439</td>\n",
       "      <td>0</td>\n",
       "    </tr>\n",
       "    <tr>\n",
       "      <th>3998</th>\n",
       "      <td>0</td>\n",
       "      <td>1</td>\n",
       "      <td>1</td>\n",
       "      <td>1</td>\n",
       "      <td>1</td>\n",
       "      <td>6</td>\n",
       "      <td>0</td>\n",
       "      <td>32</td>\n",
       "      <td>61.912657</td>\n",
       "      <td>5.0</td>\n",
       "      <td>3</td>\n",
       "      <td>1.630108</td>\n",
       "      <td>1.596237</td>\n",
       "      <td>0</td>\n",
       "    </tr>\n",
       "    <tr>\n",
       "      <th>3999</th>\n",
       "      <td>1</td>\n",
       "      <td>0</td>\n",
       "      <td>1</td>\n",
       "      <td>0</td>\n",
       "      <td>0</td>\n",
       "      <td>12</td>\n",
       "      <td>1</td>\n",
       "      <td>30</td>\n",
       "      <td>178.861814</td>\n",
       "      <td>12.0</td>\n",
       "      <td>1</td>\n",
       "      <td>1.101832</td>\n",
       "      <td>1.035270</td>\n",
       "      <td>0</td>\n",
       "    </tr>\n",
       "  </tbody>\n",
       "</table>\n",
       "<p>4000 rows × 14 columns</p>\n",
       "</div>"
      ],
      "text/plain": [
       "      gender  Near_Location  Partner  Promo_friends  Phone  Contract_period  \\\n",
       "0          1              1        1              1      0                6   \n",
       "1          0              1        0              0      1               12   \n",
       "2          0              1        1              0      1                1   \n",
       "3          0              1        1              1      1               12   \n",
       "4          1              1        1              1      1                1   \n",
       "...      ...            ...      ...            ...    ...              ...   \n",
       "3995       1              1        1              0      1               12   \n",
       "3996       0              1        0              0      1                1   \n",
       "3997       1              1        1              1      1               12   \n",
       "3998       0              1        1              1      1                6   \n",
       "3999       1              0        1              0      0               12   \n",
       "\n",
       "      Group_visits  Age  Avg_additional_charges_total  Month_to_end_contract  \\\n",
       "0                1   29                     14.227470                    5.0   \n",
       "1                1   31                    113.202938                   12.0   \n",
       "2                0   28                    129.448479                    1.0   \n",
       "3                1   33                     62.669863                   12.0   \n",
       "4                0   26                    198.362265                    1.0   \n",
       "...            ...  ...                           ...                    ...   \n",
       "3995             0   33                      2.406023                   12.0   \n",
       "3996             1   29                     68.883764                    1.0   \n",
       "3997             0   28                     78.250542                   11.0   \n",
       "3998             0   32                     61.912657                    5.0   \n",
       "3999             1   30                    178.861814                   12.0   \n",
       "\n",
       "      Lifetime  Avg_class_frequency_total  Avg_class_frequency_current_month  \\\n",
       "0            3                   0.020398                           0.000000   \n",
       "1            7                   1.922936                           1.910244   \n",
       "2            2                   1.859098                           1.736502   \n",
       "3            2                   3.205633                           3.357215   \n",
       "4            3                   1.113884                           1.120078   \n",
       "...        ...                        ...                                ...   \n",
       "3995         8                   2.284497                           2.349070   \n",
       "3996         1                   1.277168                           0.292859   \n",
       "3997         2                   2.786146                           2.831439   \n",
       "3998         3                   1.630108                           1.596237   \n",
       "3999         1                   1.101832                           1.035270   \n",
       "\n",
       "      Churn  \n",
       "0         0  \n",
       "1         0  \n",
       "2         0  \n",
       "3         0  \n",
       "4         0  \n",
       "...     ...  \n",
       "3995      0  \n",
       "3996      1  \n",
       "3997      0  \n",
       "3998      0  \n",
       "3999      0  \n",
       "\n",
       "[4000 rows x 14 columns]"
      ]
     },
     "execution_count": 38,
     "metadata": {},
     "output_type": "execute_result"
    }
   ],
   "source": [
    "data"
   ]
  },
  {
   "cell_type": "markdown",
   "id": "baf97878",
   "metadata": {},
   "source": [
    "dataset has 14 columns and 4000 rows. We'll have a detailed look at the next step"
   ]
  },
  {
   "cell_type": "markdown",
   "id": "4da3338c",
   "metadata": {},
   "source": [
    "## Step 2. Exploratory data analysis (EDA)"
   ]
  },
  {
   "cell_type": "markdown",
   "id": "8b8ae62d",
   "metadata": {},
   "source": [
    "### Look at the dataset: does it contain any missing features? Study the mean values and standard deviation (use the describe() method)."
   ]
  },
  {
   "cell_type": "code",
   "execution_count": 3,
   "id": "25f9f0e2",
   "metadata": {},
   "outputs": [
    {
     "name": "stdout",
     "output_type": "stream",
     "text": [
      "<class 'pandas.core.frame.DataFrame'>\n",
      "RangeIndex: 4000 entries, 0 to 3999\n",
      "Data columns (total 14 columns):\n",
      " #   Column                             Non-Null Count  Dtype  \n",
      "---  ------                             --------------  -----  \n",
      " 0   gender                             4000 non-null   int64  \n",
      " 1   Near_Location                      4000 non-null   int64  \n",
      " 2   Partner                            4000 non-null   int64  \n",
      " 3   Promo_friends                      4000 non-null   int64  \n",
      " 4   Phone                              4000 non-null   int64  \n",
      " 5   Contract_period                    4000 non-null   int64  \n",
      " 6   Group_visits                       4000 non-null   int64  \n",
      " 7   Age                                4000 non-null   int64  \n",
      " 8   Avg_additional_charges_total       4000 non-null   float64\n",
      " 9   Month_to_end_contract              4000 non-null   float64\n",
      " 10  Lifetime                           4000 non-null   int64  \n",
      " 11  Avg_class_frequency_total          4000 non-null   float64\n",
      " 12  Avg_class_frequency_current_month  4000 non-null   float64\n",
      " 13  Churn                              4000 non-null   int64  \n",
      "dtypes: float64(4), int64(10)\n",
      "memory usage: 437.6 KB\n"
     ]
    }
   ],
   "source": [
    "data.info()"
   ]
  },
  {
   "cell_type": "markdown",
   "id": "184fc119",
   "metadata": {},
   "source": [
    "dataset doesnt have any NaN's. All the features are converted to the numerical. Data types of each column look reasonable. But seems like we can convert 'Month_to_end_contract' from float to int."
   ]
  },
  {
   "cell_type": "code",
   "execution_count": 4,
   "id": "d6576462",
   "metadata": {},
   "outputs": [
    {
     "data": {
      "text/plain": [
       "1.0     2207\n",
       "6.0      645\n",
       "12.0     524\n",
       "11.0     181\n",
       "5.0      130\n",
       "10.0      82\n",
       "9.0       73\n",
       "4.0       58\n",
       "8.0       38\n",
       "7.0       25\n",
       "3.0       23\n",
       "2.0       14\n",
       "Name: Month_to_end_contract, dtype: int64"
      ]
     },
     "execution_count": 4,
     "metadata": {},
     "output_type": "execute_result"
    }
   ],
   "source": [
    "data['Month_to_end_contract'].value_counts()"
   ]
  },
  {
   "cell_type": "markdown",
   "id": "59a4dfff",
   "metadata": {},
   "source": [
    "as we assumed we can convert the values to int type"
   ]
  },
  {
   "cell_type": "code",
   "execution_count": 5,
   "id": "0ebb287f",
   "metadata": {},
   "outputs": [],
   "source": [
    "data['Month_to_end_contract'] = data['Month_to_end_contract'].astype('int64')"
   ]
  },
  {
   "cell_type": "code",
   "execution_count": 6,
   "id": "570cfb8e",
   "metadata": {},
   "outputs": [
    {
     "data": {
      "text/plain": [
       "0"
      ]
     },
     "execution_count": 6,
     "metadata": {},
     "output_type": "execute_result"
    }
   ],
   "source": [
    "data.duplicated().sum()"
   ]
  },
  {
   "cell_type": "markdown",
   "id": "1699c059",
   "metadata": {},
   "source": [
    "dataset has no duplicates"
   ]
  },
  {
   "cell_type": "markdown",
   "id": "fc8c7847",
   "metadata": {},
   "source": [
    "lets study the mean values and standard deviation of the dataset"
   ]
  },
  {
   "cell_type": "code",
   "execution_count": 7,
   "id": "2b281a5c",
   "metadata": {},
   "outputs": [
    {
     "data": {
      "text/html": [
       "<div>\n",
       "<style scoped>\n",
       "    .dataframe tbody tr th:only-of-type {\n",
       "        vertical-align: middle;\n",
       "    }\n",
       "\n",
       "    .dataframe tbody tr th {\n",
       "        vertical-align: top;\n",
       "    }\n",
       "\n",
       "    .dataframe thead th {\n",
       "        text-align: right;\n",
       "    }\n",
       "</style>\n",
       "<table border=\"1\" class=\"dataframe\">\n",
       "  <thead>\n",
       "    <tr style=\"text-align: right;\">\n",
       "      <th></th>\n",
       "      <th>gender</th>\n",
       "      <th>Near_Location</th>\n",
       "      <th>Partner</th>\n",
       "      <th>Promo_friends</th>\n",
       "      <th>Phone</th>\n",
       "      <th>Contract_period</th>\n",
       "      <th>Group_visits</th>\n",
       "      <th>Age</th>\n",
       "      <th>Avg_additional_charges_total</th>\n",
       "      <th>Month_to_end_contract</th>\n",
       "      <th>Lifetime</th>\n",
       "      <th>Avg_class_frequency_total</th>\n",
       "      <th>Avg_class_frequency_current_month</th>\n",
       "      <th>Churn</th>\n",
       "    </tr>\n",
       "  </thead>\n",
       "  <tbody>\n",
       "    <tr>\n",
       "      <th>count</th>\n",
       "      <td>4000.000000</td>\n",
       "      <td>4000.000000</td>\n",
       "      <td>4000.000000</td>\n",
       "      <td>4000.000000</td>\n",
       "      <td>4000.000000</td>\n",
       "      <td>4000.000000</td>\n",
       "      <td>4000.000000</td>\n",
       "      <td>4000.000000</td>\n",
       "      <td>4000.000000</td>\n",
       "      <td>4000.000000</td>\n",
       "      <td>4000.000000</td>\n",
       "      <td>4000.000000</td>\n",
       "      <td>4000.000000</td>\n",
       "      <td>4000.000000</td>\n",
       "    </tr>\n",
       "    <tr>\n",
       "      <th>mean</th>\n",
       "      <td>0.510250</td>\n",
       "      <td>0.845250</td>\n",
       "      <td>0.486750</td>\n",
       "      <td>0.308500</td>\n",
       "      <td>0.903500</td>\n",
       "      <td>4.681250</td>\n",
       "      <td>0.412250</td>\n",
       "      <td>29.184250</td>\n",
       "      <td>146.943728</td>\n",
       "      <td>4.322750</td>\n",
       "      <td>3.724750</td>\n",
       "      <td>1.879020</td>\n",
       "      <td>1.767052</td>\n",
       "      <td>0.265250</td>\n",
       "    </tr>\n",
       "    <tr>\n",
       "      <th>std</th>\n",
       "      <td>0.499957</td>\n",
       "      <td>0.361711</td>\n",
       "      <td>0.499887</td>\n",
       "      <td>0.461932</td>\n",
       "      <td>0.295313</td>\n",
       "      <td>4.549706</td>\n",
       "      <td>0.492301</td>\n",
       "      <td>3.258367</td>\n",
       "      <td>96.355602</td>\n",
       "      <td>4.191297</td>\n",
       "      <td>3.749267</td>\n",
       "      <td>0.972245</td>\n",
       "      <td>1.052906</td>\n",
       "      <td>0.441521</td>\n",
       "    </tr>\n",
       "    <tr>\n",
       "      <th>min</th>\n",
       "      <td>0.000000</td>\n",
       "      <td>0.000000</td>\n",
       "      <td>0.000000</td>\n",
       "      <td>0.000000</td>\n",
       "      <td>0.000000</td>\n",
       "      <td>1.000000</td>\n",
       "      <td>0.000000</td>\n",
       "      <td>18.000000</td>\n",
       "      <td>0.148205</td>\n",
       "      <td>1.000000</td>\n",
       "      <td>0.000000</td>\n",
       "      <td>0.000000</td>\n",
       "      <td>0.000000</td>\n",
       "      <td>0.000000</td>\n",
       "    </tr>\n",
       "    <tr>\n",
       "      <th>25%</th>\n",
       "      <td>0.000000</td>\n",
       "      <td>1.000000</td>\n",
       "      <td>0.000000</td>\n",
       "      <td>0.000000</td>\n",
       "      <td>1.000000</td>\n",
       "      <td>1.000000</td>\n",
       "      <td>0.000000</td>\n",
       "      <td>27.000000</td>\n",
       "      <td>68.868830</td>\n",
       "      <td>1.000000</td>\n",
       "      <td>1.000000</td>\n",
       "      <td>1.180875</td>\n",
       "      <td>0.963003</td>\n",
       "      <td>0.000000</td>\n",
       "    </tr>\n",
       "    <tr>\n",
       "      <th>50%</th>\n",
       "      <td>1.000000</td>\n",
       "      <td>1.000000</td>\n",
       "      <td>0.000000</td>\n",
       "      <td>0.000000</td>\n",
       "      <td>1.000000</td>\n",
       "      <td>1.000000</td>\n",
       "      <td>0.000000</td>\n",
       "      <td>29.000000</td>\n",
       "      <td>136.220159</td>\n",
       "      <td>1.000000</td>\n",
       "      <td>3.000000</td>\n",
       "      <td>1.832768</td>\n",
       "      <td>1.719574</td>\n",
       "      <td>0.000000</td>\n",
       "    </tr>\n",
       "    <tr>\n",
       "      <th>75%</th>\n",
       "      <td>1.000000</td>\n",
       "      <td>1.000000</td>\n",
       "      <td>1.000000</td>\n",
       "      <td>1.000000</td>\n",
       "      <td>1.000000</td>\n",
       "      <td>6.000000</td>\n",
       "      <td>1.000000</td>\n",
       "      <td>31.000000</td>\n",
       "      <td>210.949625</td>\n",
       "      <td>6.000000</td>\n",
       "      <td>5.000000</td>\n",
       "      <td>2.536078</td>\n",
       "      <td>2.510336</td>\n",
       "      <td>1.000000</td>\n",
       "    </tr>\n",
       "    <tr>\n",
       "      <th>max</th>\n",
       "      <td>1.000000</td>\n",
       "      <td>1.000000</td>\n",
       "      <td>1.000000</td>\n",
       "      <td>1.000000</td>\n",
       "      <td>1.000000</td>\n",
       "      <td>12.000000</td>\n",
       "      <td>1.000000</td>\n",
       "      <td>41.000000</td>\n",
       "      <td>552.590740</td>\n",
       "      <td>12.000000</td>\n",
       "      <td>31.000000</td>\n",
       "      <td>6.023668</td>\n",
       "      <td>6.146783</td>\n",
       "      <td>1.000000</td>\n",
       "    </tr>\n",
       "  </tbody>\n",
       "</table>\n",
       "</div>"
      ],
      "text/plain": [
       "            gender  Near_Location      Partner  Promo_friends        Phone  \\\n",
       "count  4000.000000    4000.000000  4000.000000    4000.000000  4000.000000   \n",
       "mean      0.510250       0.845250     0.486750       0.308500     0.903500   \n",
       "std       0.499957       0.361711     0.499887       0.461932     0.295313   \n",
       "min       0.000000       0.000000     0.000000       0.000000     0.000000   \n",
       "25%       0.000000       1.000000     0.000000       0.000000     1.000000   \n",
       "50%       1.000000       1.000000     0.000000       0.000000     1.000000   \n",
       "75%       1.000000       1.000000     1.000000       1.000000     1.000000   \n",
       "max       1.000000       1.000000     1.000000       1.000000     1.000000   \n",
       "\n",
       "       Contract_period  Group_visits          Age  \\\n",
       "count      4000.000000   4000.000000  4000.000000   \n",
       "mean          4.681250      0.412250    29.184250   \n",
       "std           4.549706      0.492301     3.258367   \n",
       "min           1.000000      0.000000    18.000000   \n",
       "25%           1.000000      0.000000    27.000000   \n",
       "50%           1.000000      0.000000    29.000000   \n",
       "75%           6.000000      1.000000    31.000000   \n",
       "max          12.000000      1.000000    41.000000   \n",
       "\n",
       "       Avg_additional_charges_total  Month_to_end_contract     Lifetime  \\\n",
       "count                   4000.000000            4000.000000  4000.000000   \n",
       "mean                     146.943728               4.322750     3.724750   \n",
       "std                       96.355602               4.191297     3.749267   \n",
       "min                        0.148205               1.000000     0.000000   \n",
       "25%                       68.868830               1.000000     1.000000   \n",
       "50%                      136.220159               1.000000     3.000000   \n",
       "75%                      210.949625               6.000000     5.000000   \n",
       "max                      552.590740              12.000000    31.000000   \n",
       "\n",
       "       Avg_class_frequency_total  Avg_class_frequency_current_month  \\\n",
       "count                4000.000000                        4000.000000   \n",
       "mean                    1.879020                           1.767052   \n",
       "std                     0.972245                           1.052906   \n",
       "min                     0.000000                           0.000000   \n",
       "25%                     1.180875                           0.963003   \n",
       "50%                     1.832768                           1.719574   \n",
       "75%                     2.536078                           2.510336   \n",
       "max                     6.023668                           6.146783   \n",
       "\n",
       "             Churn  \n",
       "count  4000.000000  \n",
       "mean      0.265250  \n",
       "std       0.441521  \n",
       "min       0.000000  \n",
       "25%       0.000000  \n",
       "50%       0.000000  \n",
       "75%       1.000000  \n",
       "max       1.000000  "
      ]
     },
     "execution_count": 7,
     "metadata": {},
     "output_type": "execute_result"
    }
   ],
   "source": [
    "data.describe()"
   ]
  },
  {
   "cell_type": "markdown",
   "id": "3591c066",
   "metadata": {},
   "source": [
    "we can see the basic details of the customers: the gym held 4000 customers during the month, both males and females, from 18 to 41 y o, most of the customers live or work near the gym, most of the customers provided their phone number. Average age is 29 y o. To have more detailed characteristic lets group the values in two groups:"
   ]
  },
  {
   "cell_type": "markdown",
   "id": "38d5bb98",
   "metadata": {},
   "source": [
    "## Look at the mean feature values in two groups: for those who left (churn) and for those who stayed (use the groupby() method)."
   ]
  },
  {
   "cell_type": "code",
   "execution_count": 8,
   "id": "585cfb97",
   "metadata": {},
   "outputs": [
    {
     "data": {
      "text/plain": [
       "0    2939\n",
       "1    1061\n",
       "Name: Churn, dtype: int64"
      ]
     },
     "execution_count": 8,
     "metadata": {},
     "output_type": "execute_result"
    }
   ],
   "source": [
    "data['Churn'].value_counts()"
   ]
  },
  {
   "cell_type": "markdown",
   "id": "92e4e05d",
   "metadata": {},
   "source": [
    "we have data on churn for a given month, 2939 people out of 4000 are staying and 1061 are leaving which is 73% and 27% respectively."
   ]
  },
  {
   "cell_type": "markdown",
   "id": "3e77ebf5",
   "metadata": {},
   "source": [
    "Split the values in two groups by churn indicator:"
   ]
  },
  {
   "cell_type": "code",
   "execution_count": 9,
   "id": "39109625",
   "metadata": {},
   "outputs": [
    {
     "data": {
      "text/html": [
       "<div>\n",
       "<style scoped>\n",
       "    .dataframe tbody tr th:only-of-type {\n",
       "        vertical-align: middle;\n",
       "    }\n",
       "\n",
       "    .dataframe tbody tr th {\n",
       "        vertical-align: top;\n",
       "    }\n",
       "\n",
       "    .dataframe thead th {\n",
       "        text-align: right;\n",
       "    }\n",
       "</style>\n",
       "<table border=\"1\" class=\"dataframe\">\n",
       "  <thead>\n",
       "    <tr style=\"text-align: right;\">\n",
       "      <th>Churn</th>\n",
       "      <th>0</th>\n",
       "      <th>1</th>\n",
       "    </tr>\n",
       "  </thead>\n",
       "  <tbody>\n",
       "    <tr>\n",
       "      <th>gender</th>\n",
       "      <td>0.510037</td>\n",
       "      <td>0.510839</td>\n",
       "    </tr>\n",
       "    <tr>\n",
       "      <th>Near_Location</th>\n",
       "      <td>0.873086</td>\n",
       "      <td>0.768143</td>\n",
       "    </tr>\n",
       "    <tr>\n",
       "      <th>Partner</th>\n",
       "      <td>0.534195</td>\n",
       "      <td>0.355325</td>\n",
       "    </tr>\n",
       "    <tr>\n",
       "      <th>Promo_friends</th>\n",
       "      <td>0.353522</td>\n",
       "      <td>0.183789</td>\n",
       "    </tr>\n",
       "    <tr>\n",
       "      <th>Phone</th>\n",
       "      <td>0.903709</td>\n",
       "      <td>0.902922</td>\n",
       "    </tr>\n",
       "    <tr>\n",
       "      <th>Contract_period</th>\n",
       "      <td>5.747193</td>\n",
       "      <td>1.728558</td>\n",
       "    </tr>\n",
       "    <tr>\n",
       "      <th>Group_visits</th>\n",
       "      <td>0.464103</td>\n",
       "      <td>0.268615</td>\n",
       "    </tr>\n",
       "    <tr>\n",
       "      <th>Age</th>\n",
       "      <td>29.976523</td>\n",
       "      <td>26.989632</td>\n",
       "    </tr>\n",
       "    <tr>\n",
       "      <th>Avg_additional_charges_total</th>\n",
       "      <td>158.445715</td>\n",
       "      <td>115.082899</td>\n",
       "    </tr>\n",
       "    <tr>\n",
       "      <th>Month_to_end_contract</th>\n",
       "      <td>5.283089</td>\n",
       "      <td>1.662582</td>\n",
       "    </tr>\n",
       "    <tr>\n",
       "      <th>Lifetime</th>\n",
       "      <td>4.711807</td>\n",
       "      <td>0.990575</td>\n",
       "    </tr>\n",
       "    <tr>\n",
       "      <th>Avg_class_frequency_total</th>\n",
       "      <td>2.024876</td>\n",
       "      <td>1.474995</td>\n",
       "    </tr>\n",
       "    <tr>\n",
       "      <th>Avg_class_frequency_current_month</th>\n",
       "      <td>2.027882</td>\n",
       "      <td>1.044546</td>\n",
       "    </tr>\n",
       "  </tbody>\n",
       "</table>\n",
       "</div>"
      ],
      "text/plain": [
       "Churn                                       0           1\n",
       "gender                               0.510037    0.510839\n",
       "Near_Location                        0.873086    0.768143\n",
       "Partner                              0.534195    0.355325\n",
       "Promo_friends                        0.353522    0.183789\n",
       "Phone                                0.903709    0.902922\n",
       "Contract_period                      5.747193    1.728558\n",
       "Group_visits                         0.464103    0.268615\n",
       "Age                                 29.976523   26.989632\n",
       "Avg_additional_charges_total       158.445715  115.082899\n",
       "Month_to_end_contract                5.283089    1.662582\n",
       "Lifetime                             4.711807    0.990575\n",
       "Avg_class_frequency_total            2.024876    1.474995\n",
       "Avg_class_frequency_current_month    2.027882    1.044546"
      ]
     },
     "execution_count": 9,
     "metadata": {},
     "output_type": "execute_result"
    }
   ],
   "source": [
    "data.groupby('Churn').mean().T"
   ]
  },
  {
   "cell_type": "markdown",
   "id": "1e003524",
   "metadata": {},
   "source": [
    "Now we see two category of people: clients who still go to the gym - 0 and people who are no longer the clients - 1. We can conclude that these category are split by gender almost evenly. 0 churn live or work closer to the gym than 1 churn but the difference is not that big. 53% of 0 Churn are employees of a partner company (the gym has partner companies whose employees get discounts) and only 35% of Churn 1. Almost equal share of the customers from both categories provided their phone number. Majority of people who left the gym were short membership holders. 46% of customers go to group session, and only 26% who left the gym. People who still go to the gym are 29 y o in average (vs 26 y o who left). Gym users bring more money to the gym (158.4) by buying additional gym services: cafe, athletic goods, cosmetics, massages, etc (vs 115 who left). An average user leaves the gym with 1.6 month remaining until the contract expires (vs 5.2 months for gym users). It seems like an average users decides at the beginning of the membership either that gym suits him (less then 1 month). Both categories usually go to the gym 1-2 times a week."
   ]
  },
  {
   "cell_type": "markdown",
   "id": "d0a8e20b",
   "metadata": {},
   "source": [
    "Since we have data for 1 month, 'Avg_class_frequency_total' and 'Avg_class_frequency_current_month' actually are the same categories. For the future classification model let's remove one of them - Avg_class_frequency_current_month"
   ]
  },
  {
   "cell_type": "code",
   "execution_count": 10,
   "id": "e04fa955",
   "metadata": {},
   "outputs": [],
   "source": [
    "data = data.drop(columns='Avg_class_frequency_current_month')"
   ]
  },
  {
   "cell_type": "markdown",
   "id": "418bb073",
   "metadata": {},
   "source": [
    "## Plot bar histograms and feature distributions for those who left (churn) and those who stayed."
   ]
  },
  {
   "cell_type": "code",
   "execution_count": 11,
   "id": "701bec55",
   "metadata": {},
   "outputs": [],
   "source": [
    "data_churn_0 = data.loc[data['Churn']==0].drop(axis=1, columns='Churn')\n",
    "data_churn_1 = data.loc[data['Churn']==1].drop(axis=1, columns='Churn')"
   ]
  },
  {
   "cell_type": "code",
   "execution_count": 12,
   "id": "65ce7546",
   "metadata": {},
   "outputs": [
    {
     "data": {
      "image/png": "[encoded data removed]",
      "text/plain": [
       "<Figure size 432x288 with 1 Axes>"
      ]
     },
     "metadata": {
      "needs_background": "light"
     },
     "output_type": "display_data"
    },
    {
     "data": {
      "image/png": "[encoded data removed]",
      "text/plain": [
       "<Figure size 432x288 with 1 Axes>"
      ]
     },
     "metadata": {
      "needs_background": "light"
     },
     "output_type": "display_data"
    },
    {
     "data": {
      "image/png": "[encoded data removed]",
      "text/plain": [
       "<Figure size 432x288 with 1 Axes>"
      ]
     },
     "metadata": {
      "needs_background": "light"
     },
     "output_type": "display_data"
    },
    {
     "data": {
      "image/png": "[encoded data removed]",
      "text/plain": [
       "<Figure size 432x288 with 1 Axes>"
      ]
     },
     "metadata": {
      "needs_background": "light"
     },
     "output_type": "display_data"
    },
    {
     "data": {
      "image/png": "[encoded data removed]",
      "text/plain": [
       "<Figure size 432x288 with 1 Axes>"
      ]
     },
     "metadata": {
      "needs_background": "light"
     },
     "output_type": "display_data"
    },
    {
     "data": {
      "image/png": "[encoded data removed]",
      "text/plain": [
       "<Figure size 432x288 with 1 Axes>"
      ]
     },
     "metadata": {
      "needs_background": "light"
     },
     "output_type": "display_data"
    },
    {
     "data": {
      "image/png": "[encoded data removed]",
      "text/plain": [
       "<Figure size 432x288 with 1 Axes>"
      ]
     },
     "metadata": {
      "needs_background": "light"
     },
     "output_type": "display_data"
    },
    {
     "data": {
      "image/png": "[encoded data removed]",
      "text/plain": [
       "<Figure size 432x288 with 1 Axes>"
      ]
     },
     "metadata": {
      "needs_background": "light"
     },
     "output_type": "display_data"
    },
    {
     "data": {
      "image/png": "[encoded data removed]",
      "text/plain": [
       "<Figure size 432x288 with 1 Axes>"
      ]
     },
     "metadata": {
      "needs_background": "light"
     },
     "output_type": "display_data"
    },
    {
     "data": {
      "image/png": "[encoded data removed]",
      "text/plain": [
       "<Figure size 432x288 with 1 Axes>"
      ]
     },
     "metadata": {
      "needs_background": "light"
     },
     "output_type": "display_data"
    },
    {
     "data": {
      "image/png": "[encoded data removed]",
      "text/plain": [
       "<Figure size 432x288 with 1 Axes>"
      ]
     },
     "metadata": {
      "needs_background": "light"
     },
     "output_type": "display_data"
    },
    {
     "data": {
      "image/png": "[encoded data removed]",
      "text/plain": [
       "<Figure size 432x288 with 1 Axes>"
      ]
     },
     "metadata": {
      "needs_background": "light"
     },
     "output_type": "display_data"
    }
   ],
   "source": [
    "fig, ax = plt.subplots()\n",
    "plt.title('distributions for those who left (churn 1) and those who stayed (churn 1)', fontdict={\"size\":15})\n",
    "for col in data_churn_0.columns:\n",
    "\n",
    "    ax = plt.hist(data_churn_0[col], alpha=0.5, label= ('Churn 0'))\n",
    "    ax = plt.hist(data_churn_1[col], alpha=0.4, label='Churn 1')\n",
    "    plt.xlabel(col, fontdict={\"size\":12})\n",
    "   \n",
    "    plt.legend(loc='best')\n",
    "    plt.show();"
   ]
  },
  {
   "cell_type": "markdown",
   "id": "59a3bc76",
   "metadata": {},
   "source": [
    "we dont observe any obvious outliers so we can use this data to built a model"
   ]
  },
  {
   "cell_type": "markdown",
   "id": "3dd203fe",
   "metadata": {},
   "source": [
    "## Build a correlation matrix and display it."
   ]
  },
  {
   "cell_type": "code",
   "execution_count": 13,
   "id": "5755412e",
   "metadata": {},
   "outputs": [
    {
     "data": {
      "image/png": "[encoded data removed]",
      "text/plain": [
       "<Figure size 864x864 with 2 Axes>"
      ]
     },
     "metadata": {
      "needs_background": "light"
     },
     "output_type": "display_data"
    }
   ],
   "source": [
    "import seaborn as sns\n",
    "\n",
    "corr_m = data.corr()\n",
    "plt.figure(figsize = (12,12))\n",
    "sns.heatmap(corr_m, fmt='.2f', square = True, annot=True)\n",
    "plt.title('Correlation matrix');"
   ]
  },
  {
   "cell_type": "markdown",
   "id": "af0a58b6",
   "metadata": {},
   "source": [
    "we see quite strong negative correlation between the target value churn and contract period (-0.39), age (-0.4) and lifetime (-0.44). Gender and phone dont correlate with Churn at all."
   ]
  },
  {
   "cell_type": "markdown",
   "id": "03d719c2",
   "metadata": {},
   "source": [
    "### EDA Conclusion\n",
    " The analysis from EDA can draw a picture of an average user who is leaving the gym:\n",
    "- both male and female evenly leave the gym\n",
    "- even if the gym is close to the job/home it doesnt prevent from the leaving\n",
    "- its a very slight chance that a leaving user was brought by a friend (and used his promo code). And not that high chance that the user is work for one of the partners companies (which gives a discount as well). So apparently users most likely stay longer if they receive a discount and we need to create a wider catalog of loyalty programs\n",
    "- A user leaving the gym most likely a short term membersip holder (1 month)\n",
    "- Leaving users less participate group training, we need to stimulate them to go more often by creating different competition involving prizes or just advertise the group sessions more\n",
    "- A customer going to the gym just once a week is a potential prone to leaving so we need to get a feedback from that king of customer in order for the gym to prevent churn"
   ]
  },
  {
   "cell_type": "markdown",
   "id": "c189a647",
   "metadata": {},
   "source": [
    "## Step 3. Build a model to predict user churn\n",
    "### Divide the data into train and validation sets using the train_test_split() function."
   ]
  },
  {
   "cell_type": "markdown",
   "id": "be387104",
   "metadata": {},
   "source": [
    "Lets build a binary classification model for customers where the target feature is the user's leaving next month:"
   ]
  },
  {
   "cell_type": "markdown",
   "id": "93ab7230",
   "metadata": {},
   "source": [
    "Divide the data into features (the X matrix) and a target variable (y)"
   ]
  },
  {
   "cell_type": "code",
   "execution_count": 14,
   "id": "c8c3821a",
   "metadata": {},
   "outputs": [],
   "source": [
    "from sklearn.model_selection import train_test_split\n",
    "\n",
    "X = data.drop('Churn', axis = 1)\n",
    "y = data['Churn']"
   ]
  },
  {
   "cell_type": "markdown",
   "id": "c2f9be5a",
   "metadata": {},
   "source": [
    "Split the data into train and validation sets (we are using a classic 80/20 split)"
   ]
  },
  {
   "cell_type": "code",
   "execution_count": 15,
   "id": "cb5fd3be",
   "metadata": {},
   "outputs": [],
   "source": [
    "X_train, X_test, y_train, y_test = train_test_split(X, y, test_size=0.2, random_state=0)"
   ]
  },
  {
   "cell_type": "markdown",
   "id": "52bd4288",
   "metadata": {},
   "source": [
    "normalizing and standardizing data"
   ]
  },
  {
   "cell_type": "code",
   "execution_count": 16,
   "id": "c1ed0780",
   "metadata": {},
   "outputs": [
    {
     "data": {
      "text/plain": [
       "StandardScaler()"
      ]
     },
     "execution_count": 16,
     "metadata": {},
     "output_type": "execute_result"
    }
   ],
   "source": [
    "from sklearn.preprocessing import StandardScaler\n",
    "\n",
    "scaler = StandardScaler()\n",
    "scaler.fit(X_train)"
   ]
  },
  {
   "cell_type": "markdown",
   "id": "74be593b",
   "metadata": {},
   "source": [
    "transform train and test sets"
   ]
  },
  {
   "cell_type": "code",
   "execution_count": 17,
   "id": "c4da5399",
   "metadata": {},
   "outputs": [],
   "source": [
    "X_train_st = scaler.transform(X_train)\n",
    "X_test_st = scaler.transform(X_test)"
   ]
  },
  {
   "cell_type": "markdown",
   "id": "7f4b3851",
   "metadata": {},
   "source": [
    " - Train the model on the train set with two methods: logistic regression and \n",
    "random forest. <br>\n",
    "<br> First logistic regression: <br>\n",
    "define the model's algorithm and train your model"
   ]
  },
  {
   "cell_type": "code",
   "execution_count": 18,
   "id": "fdc701d6",
   "metadata": {},
   "outputs": [
    {
     "data": {
      "text/plain": [
       "LogisticRegression(random_state=0)"
      ]
     },
     "execution_count": 18,
     "metadata": {},
     "output_type": "execute_result"
    }
   ],
   "source": [
    "from sklearn.linear_model import LogisticRegression\n",
    "from sklearn.metrics import accuracy_score, precision_score, recall_score, f1_score, roc_auc_score\n",
    "\n",
    "model = LogisticRegression(random_state=0)\n",
    "model.fit(X_train_st, y_train)"
   ]
  },
  {
   "cell_type": "markdown",
   "id": "0060c188",
   "metadata": {},
   "source": [
    "Use the trained model to make forecasts"
   ]
  },
  {
   "cell_type": "code",
   "execution_count": 19,
   "id": "66cad66c",
   "metadata": {},
   "outputs": [],
   "source": [
    "predictions = model.predict(X_test_st)"
   ]
  },
  {
   "cell_type": "markdown",
   "id": "e1c00090",
   "metadata": {},
   "source": [
    "Estimate the probability that an object from the validation set belongs to the second class (class \"1\" from the two classes \"0\" and \"1\")"
   ]
  },
  {
   "cell_type": "code",
   "execution_count": 20,
   "id": "c4daf7f3",
   "metadata": {},
   "outputs": [],
   "source": [
    "probabilities = model.predict_proba(X_test_st)[:,1] "
   ]
  },
  {
   "cell_type": "markdown",
   "id": "a4760316",
   "metadata": {},
   "source": [
    "Look at the ratio between the dataset classes, Accuracy only works when classes are balanced,(0.36) "
   ]
  },
  {
   "cell_type": "code",
   "execution_count": 21,
   "id": "2cada5d0",
   "metadata": {},
   "outputs": [
    {
     "name": "stdout",
     "output_type": "stream",
     "text": [
      "The ratio between classes:\n",
      " 0    2939\n",
      "1    1061\n",
      "Name: Churn, dtype: int64\n"
     ]
    }
   ],
   "source": [
    "print('The ratio between classes:\\n', data['Churn'].value_counts())"
   ]
  },
  {
   "cell_type": "markdown",
   "id": "883aca06",
   "metadata": {},
   "source": [
    "print the studied metrics for the resulting prediction"
   ]
  },
  {
   "cell_type": "code",
   "execution_count": 22,
   "id": "03fedd64",
   "metadata": {},
   "outputs": [
    {
     "name": "stdout",
     "output_type": "stream",
     "text": [
      "Accuracy: 0.90\n",
      "Precision: 0.78\n",
      "Recall: 0.81\n",
      "F1: 0.80\n",
      "ROC_AUC: 0.95\n"
     ]
    }
   ],
   "source": [
    "print('Accuracy: {:.2f}'.format(accuracy_score(y_test, predictions)))\n",
    "print('Precision: {:.2f}'.format(precision_score(y_test, predictions)))\n",
    "print('Recall: {:.2f}'.format(recall_score(y_test, predictions)))\n",
    "print('F1: {:.2f}'.format(f1_score(y_test, predictions)))\n",
    "print('ROC_AUC: {:.2f}'.format((roc_auc_score(y_test, probabilities))))"
   ]
  },
  {
   "cell_type": "markdown",
   "id": "04b42e5f",
   "metadata": {},
   "source": [
    "we made correct prediction for 90%. ROC_AUC metcric looks also pretty good - 95%. The model seems to predict stability quite well. Recall is 0.81, this implies the model identified 81% of churn which is also good. But lets try to improve that metric using a smaller value of thresholdd."
   ]
  },
  {
   "cell_type": "code",
   "execution_count": 23,
   "id": "03a27f48",
   "metadata": {},
   "outputs": [
    {
     "name": "stdout",
     "output_type": "stream",
     "text": [
      "Metrics for the prediction with custom threshold\n",
      "Accuracy for custom: 0.89\n",
      "Precision for custom: 0.75\n",
      "Recall for custom: 0.83\n",
      "F1 for custom: 0.79\n"
     ]
    }
   ],
   "source": [
    "threshold = 0.4\n",
    "\n",
    "custom_predictions = [0 if i<threshold else 1 for i in probabilities]\n",
    "\n",
    "print('Metrics for the prediction with custom threshold')\n",
    "print('Accuracy for custom: {:.2f}'.format(accuracy_score(y_test, custom_predictions)))\n",
    "print('Precision for custom: {:.2f}'.format(precision_score(y_test, custom_predictions)))\n",
    "print('Recall for custom: {:.2f}'.format(recall_score(y_test, custom_predictions)))\n",
    "print('F1 for custom: {:.2f}'.format(f1_score(y_test, custom_predictions)))"
   ]
  },
  {
   "cell_type": "markdown",
   "id": "0457da28",
   "metadata": {},
   "source": [
    "now  define the new model's algorithm based on random forest method:"
   ]
  },
  {
   "cell_type": "code",
   "execution_count": 24,
   "id": "5dc79d19",
   "metadata": {},
   "outputs": [],
   "source": [
    "from sklearn.ensemble import RandomForestClassifier\n",
    "rf_model = RandomForestClassifier(random_state=0, n_estimators = 100)"
   ]
  },
  {
   "cell_type": "markdown",
   "id": "000c6301",
   "metadata": {},
   "source": [
    "train the random forest model"
   ]
  },
  {
   "cell_type": "code",
   "execution_count": 25,
   "id": "5ec4778b",
   "metadata": {},
   "outputs": [
    {
     "data": {
      "text/plain": [
       "RandomForestClassifier(random_state=0)"
      ]
     },
     "execution_count": 25,
     "metadata": {},
     "output_type": "execute_result"
    }
   ],
   "source": [
    "rf_model.fit(X_train_st, y_train)"
   ]
  },
  {
   "cell_type": "markdown",
   "id": "f01fc740",
   "metadata": {},
   "source": [
    "use the trained model to make predictions and print the metrics:"
   ]
  },
  {
   "cell_type": "code",
   "execution_count": 26,
   "id": "4f702708",
   "metadata": {},
   "outputs": [
    {
     "name": "stdout",
     "output_type": "stream",
     "text": [
      "Accuracy: 0.89\n",
      "Precision: 0.80\n",
      "Recall: 0.76\n",
      "F1: 0.78\n",
      "ROC_AUC: 0.94\n"
     ]
    }
   ],
   "source": [
    "rf_predictions = rf_model.predict(X_test_st)\n",
    "rf_probabilities = rf_model.predict_proba(X_test_st)[:,1] # write your code here\n",
    "\n",
    "print('Accuracy: {:.2f}'.format(accuracy_score(y_test, rf_predictions)))\n",
    "print('Precision: {:.2f}'.format(precision_score(y_test, rf_predictions)))\n",
    "print('Recall: {:.2f}'.format(recall_score(y_test, rf_predictions)))\n",
    "print('F1: {:.2f}'.format(f1_score(y_test, rf_predictions)))\n",
    "print('ROC_AUC: {:.2f}'.format((roc_auc_score(y_test, rf_probabilities))))"
   ]
  },
  {
   "cell_type": "markdown",
   "id": "baec852d",
   "metadata": {},
   "source": [
    "### Conclusion: \n",
    "At first glance, the models are more or less the same but if we compare ROC_AUC that tells about the quality of the model, LogisticRegression shows the better result (0.95 vs 0.94) and Recall 0.83 vs 0.76."
   ]
  },
  {
   "cell_type": "markdown",
   "id": "cefefdd0",
   "metadata": {},
   "source": [
    "## Step 4. Create user clusters\n",
    "### Standardize the data."
   ]
  },
  {
   "cell_type": "markdown",
   "id": "0aa98748",
   "metadata": {},
   "source": [
    "creating a scaler class object (normalizer) and training the normalizer and transforming the dataset:"
   ]
  },
  {
   "cell_type": "code",
   "execution_count": 27,
   "id": "cdb2ff57",
   "metadata": {},
   "outputs": [],
   "source": [
    "from sklearn.preprocessing import StandardScaler\n",
    "\n",
    "scaler = StandardScaler()\n",
    "X_sc = scaler.fit_transform(X) "
   ]
  },
  {
   "cell_type": "markdown",
   "id": "ae333e5e",
   "metadata": {},
   "source": [
    "- Use the linkage() function to build a matrix of distances based on the standardized feature matrix and plot a dendrogram."
   ]
  },
  {
   "cell_type": "code",
   "execution_count": 28,
   "id": "7ad75fd8",
   "metadata": {},
   "outputs": [],
   "source": [
    "from scipy.cluster.hierarchy import dendrogram, linkage\n",
    "linked = linkage(X_sc, method = 'ward')"
   ]
  },
  {
   "cell_type": "code",
   "execution_count": 29,
   "id": "91118f03",
   "metadata": {},
   "outputs": [
    {
     "data": {
      "image/png": "[encoded data removed]",
      "text/plain": [
       "<Figure size 1080x720 with 1 Axes>"
      ]
     },
     "metadata": {
      "needs_background": "light"
     },
     "output_type": "display_data"
    }
   ],
   "source": [
    "plt.figure(figsize=(15, 10))  \n",
    "dendrogram(linked, orientation='top')\n",
    "plt.title('Hierarchial clustering for Model Fitness gym')\n",
    "plt.show()"
   ]
  },
  {
   "cell_type": "markdown",
   "id": "a828889f",
   "metadata": {},
   "source": [
    "we got 5 clusters. the sizes of cluster 2 and cluster 5 are very different"
   ]
  },
  {
   "cell_type": "markdown",
   "id": "8348bcd7",
   "metadata": {},
   "source": [
    "- Train the clustering model with the K-means algorithm and predict customer clusters.(Let the number of clusters be n=5)"
   ]
  },
  {
   "cell_type": "code",
   "execution_count": 30,
   "id": "d1081e3e",
   "metadata": {},
   "outputs": [],
   "source": [
    "from sklearn.cluster import KMeans\n",
    "km = KMeans(n_clusters = 5, random_state=0)"
   ]
  },
  {
   "cell_type": "markdown",
   "id": "1f773e7f",
   "metadata": {},
   "source": [
    "applying the algorithm to the data and forming a cluster vector"
   ]
  },
  {
   "cell_type": "code",
   "execution_count": 31,
   "id": "92619d51",
   "metadata": {},
   "outputs": [],
   "source": [
    "labels = km.fit_predict(X_sc) "
   ]
  },
  {
   "cell_type": "markdown",
   "id": "c04f3234",
   "metadata": {},
   "source": [
    "- Look at the mean feature values for clusters"
   ]
  },
  {
   "cell_type": "code",
   "execution_count": 32,
   "id": "e6b2dac6",
   "metadata": {},
   "outputs": [],
   "source": [
    "data['cluster_km'] = labels"
   ]
  },
  {
   "cell_type": "code",
   "execution_count": 33,
   "id": "07c45291",
   "metadata": {},
   "outputs": [
    {
     "data": {
      "text/html": [
       "<div>\n",
       "<style scoped>\n",
       "    .dataframe tbody tr th:only-of-type {\n",
       "        vertical-align: middle;\n",
       "    }\n",
       "\n",
       "    .dataframe tbody tr th {\n",
       "        vertical-align: top;\n",
       "    }\n",
       "\n",
       "    .dataframe thead th {\n",
       "        text-align: right;\n",
       "    }\n",
       "</style>\n",
       "<table border=\"1\" class=\"dataframe\">\n",
       "  <thead>\n",
       "    <tr style=\"text-align: right;\">\n",
       "      <th>cluster_km</th>\n",
       "      <th>0</th>\n",
       "      <th>1</th>\n",
       "      <th>2</th>\n",
       "      <th>3</th>\n",
       "      <th>4</th>\n",
       "    </tr>\n",
       "  </thead>\n",
       "  <tbody>\n",
       "    <tr>\n",
       "      <th>gender</th>\n",
       "      <td>0.498879</td>\n",
       "      <td>0.506829</td>\n",
       "      <td>0.517532</td>\n",
       "      <td>0.502868</td>\n",
       "      <td>0.523316</td>\n",
       "    </tr>\n",
       "    <tr>\n",
       "      <th>Near_Location</th>\n",
       "      <td>0.952915</td>\n",
       "      <td>0.998483</td>\n",
       "      <td>1.000000</td>\n",
       "      <td>0.000000</td>\n",
       "      <td>0.862694</td>\n",
       "    </tr>\n",
       "    <tr>\n",
       "      <th>Partner</th>\n",
       "      <td>0.738789</td>\n",
       "      <td>0.773900</td>\n",
       "      <td>0.228571</td>\n",
       "      <td>0.466539</td>\n",
       "      <td>0.471503</td>\n",
       "    </tr>\n",
       "    <tr>\n",
       "      <th>Promo_friends</th>\n",
       "      <td>0.465247</td>\n",
       "      <td>1.000000</td>\n",
       "      <td>0.000000</td>\n",
       "      <td>0.080306</td>\n",
       "      <td>0.305699</td>\n",
       "    </tr>\n",
       "    <tr>\n",
       "      <th>Phone</th>\n",
       "      <td>1.000000</td>\n",
       "      <td>1.000000</td>\n",
       "      <td>1.000000</td>\n",
       "      <td>1.000000</td>\n",
       "      <td>0.000000</td>\n",
       "    </tr>\n",
       "    <tr>\n",
       "      <th>Contract_period</th>\n",
       "      <td>11.670404</td>\n",
       "      <td>3.045524</td>\n",
       "      <td>2.094156</td>\n",
       "      <td>2.369025</td>\n",
       "      <td>4.777202</td>\n",
       "    </tr>\n",
       "    <tr>\n",
       "      <th>Group_visits</th>\n",
       "      <td>0.548206</td>\n",
       "      <td>0.459788</td>\n",
       "      <td>0.375325</td>\n",
       "      <td>0.217973</td>\n",
       "      <td>0.427461</td>\n",
       "    </tr>\n",
       "    <tr>\n",
       "      <th>Age</th>\n",
       "      <td>30.003363</td>\n",
       "      <td>29.125948</td>\n",
       "      <td>28.906494</td>\n",
       "      <td>28.594646</td>\n",
       "      <td>29.297927</td>\n",
       "    </tr>\n",
       "    <tr>\n",
       "      <th>Avg_additional_charges_total</th>\n",
       "      <td>166.349406</td>\n",
       "      <td>142.735320</td>\n",
       "      <td>141.772782</td>\n",
       "      <td>136.394309</td>\n",
       "      <td>144.208179</td>\n",
       "    </tr>\n",
       "    <tr>\n",
       "      <th>Month_to_end_contract</th>\n",
       "      <td>10.621076</td>\n",
       "      <td>2.840668</td>\n",
       "      <td>1.988961</td>\n",
       "      <td>2.214149</td>\n",
       "      <td>4.466321</td>\n",
       "    </tr>\n",
       "    <tr>\n",
       "      <th>Lifetime</th>\n",
       "      <td>4.732063</td>\n",
       "      <td>3.813354</td>\n",
       "      <td>3.325974</td>\n",
       "      <td>2.910134</td>\n",
       "      <td>3.940415</td>\n",
       "    </tr>\n",
       "    <tr>\n",
       "      <th>Avg_class_frequency_total</th>\n",
       "      <td>2.053610</td>\n",
       "      <td>1.866970</td>\n",
       "      <td>1.833557</td>\n",
       "      <td>1.748607</td>\n",
       "      <td>1.854211</td>\n",
       "    </tr>\n",
       "    <tr>\n",
       "      <th>Churn</th>\n",
       "      <td>0.020179</td>\n",
       "      <td>0.247344</td>\n",
       "      <td>0.359091</td>\n",
       "      <td>0.428298</td>\n",
       "      <td>0.266839</td>\n",
       "    </tr>\n",
       "  </tbody>\n",
       "</table>\n",
       "</div>"
      ],
      "text/plain": [
       "cluster_km                             0           1           2           3  \\\n",
       "gender                          0.498879    0.506829    0.517532    0.502868   \n",
       "Near_Location                   0.952915    0.998483    1.000000    0.000000   \n",
       "Partner                         0.738789    0.773900    0.228571    0.466539   \n",
       "Promo_friends                   0.465247    1.000000    0.000000    0.080306   \n",
       "Phone                           1.000000    1.000000    1.000000    1.000000   \n",
       "Contract_period                11.670404    3.045524    2.094156    2.369025   \n",
       "Group_visits                    0.548206    0.459788    0.375325    0.217973   \n",
       "Age                            30.003363   29.125948   28.906494   28.594646   \n",
       "Avg_additional_charges_total  166.349406  142.735320  141.772782  136.394309   \n",
       "Month_to_end_contract          10.621076    2.840668    1.988961    2.214149   \n",
       "Lifetime                        4.732063    3.813354    3.325974    2.910134   \n",
       "Avg_class_frequency_total       2.053610    1.866970    1.833557    1.748607   \n",
       "Churn                           0.020179    0.247344    0.359091    0.428298   \n",
       "\n",
       "cluster_km                             4  \n",
       "gender                          0.523316  \n",
       "Near_Location                   0.862694  \n",
       "Partner                         0.471503  \n",
       "Promo_friends                   0.305699  \n",
       "Phone                           0.000000  \n",
       "Contract_period                 4.777202  \n",
       "Group_visits                    0.427461  \n",
       "Age                            29.297927  \n",
       "Avg_additional_charges_total  144.208179  \n",
       "Month_to_end_contract           4.466321  \n",
       "Lifetime                        3.940415  \n",
       "Avg_class_frequency_total       1.854211  \n",
       "Churn                           0.266839  "
      ]
     },
     "execution_count": 33,
     "metadata": {},
     "output_type": "execute_result"
    }
   ],
   "source": [
    "clusters = data.groupby(['cluster_km']).mean().T\n",
    "clusters"
   ]
  },
  {
   "cell_type": "markdown",
   "id": "76d5e9e5",
   "metadata": {},
   "source": [
    "Lets study each cluster focusing on unique characteristics:<br>\n",
    "<u>Cluster 0: </u><br>\n",
    "    - 2% Churn<br>\n",
    "    - almost all users (95%) live or work close to the gym<br>\n",
    "    - 73% percent of users working for a partner company<br>\n",
    "    - Almost a half (47%) of users originally signed up through a \"bring a friend\" offer<br>\n",
    "    - longest contract period - 1 year membership almost all users<br>\n",
    "    - the highest percent (55%) attend group training\n",
    "    - the oldest cluster - 30 y o<br>\n",
    "    - the cluster brings the highest amount of additional charges (166.3)<br>\n",
    "    - the longest period till the end of the contract - 10.6 months\n",
    "    - the longest period since the user first came to the gym - 4.7 months<br>\n",
    "    - the highest class frequency attendance - 2.05 times<br>\n",
    "<u>Cluster 1: </u><br>\n",
    "    - 25% Churn<br>\n",
    "    - all users live or work close to the gym<br>\n",
    "    - 73% percent (the highest percentage) of users working for a partner company<br>\n",
    "    - all users are signed up through a \"bring a friend\" offer<br>\n",
    "    - contract period is 3 months membership<br>\n",
    "    - almost a half (46%) attend group training<br>\n",
    "<u>Cluster 2:</u> <br>\n",
    "    - 36% Churn<br>\n",
    "    - all users live or work close to the gym<br>\n",
    "    - the lawest 22% percent of users working for a partner company<br>\n",
    "    - no one is signed up through a \"bring a friend\" offer<br>\n",
    "    - the shortest period till the end of contract - 1.9 months<br>\n",
    "<u>Cluster 3:</u> <br>\n",
    "    - 42% Churn - the highest one<br>\n",
    "    - no one lives or works close to the gym<br>\n",
    "    - only 8% is signed up through a \"bring a friend\" offer<br>\n",
    "    - A half (47%) of users percent of users working for a partner company<br>\n",
    "    - the lowest percent (22%) of users attend group training\n",
    "    - the youngest cluster - 28.5 y o<br>\n",
    "    - the cluster brings the lowest amount of additional charges (136.4)<br>\n",
    "    - the shortest period since the user first came to the gym - 2.9 months<br>\n",
    "    - the lowest class frequency attendance - 1.7 times<br>\n",
    "<u>Cluster 4: </u><br>\n",
    "    - 27% Churn - the highest one<br>\n",
    "    - 86% of users live or work close to the gym<br>\n",
    "    - low percentage 30% is signed up through a \"bring a friend\" offer<br>\n",
    "    - A half (47%) of users percent of users working for a partner company<br>\n",
    "    - no one provided the phone number\n",
    "    - the period till the end of contract - 4.7 months\n",
    "    - the lowest percent (22%) of users attend group training\n",
    "    - the cluster brings the lowest amount of additional charges (144.2)<br>\n",
    "    - the shortest period till the end of contract - 4.5 months<br>\n",
    "    - speaking about group training visits - we see a correlation where the higher percent of cluster attend group class, the lower its churn is. It can be explained by enjoing to meet up with people and socializing and making friends in the groups"
   ]
  },
  {
   "cell_type": "markdown",
   "id": "712f7503",
   "metadata": {},
   "source": [
    "- Plot distributions of features for the clusters"
   ]
  },
  {
   "cell_type": "code",
   "execution_count": 34,
   "id": "b6da4215",
   "metadata": {},
   "outputs": [
    {
     "data": {
      "text/plain": [
       "'0.11.1'"
      ]
     },
     "execution_count": 34,
     "metadata": {},
     "output_type": "execute_result"
    }
   ],
   "source": [
    "import seaborn as sns\n",
    "sns.__version__"
   ]
  },
  {
   "cell_type": "code",
   "execution_count": 35,
   "id": "215703fc",
   "metadata": {},
   "outputs": [
    {
     "name": "stderr",
     "output_type": "stream",
     "text": [
      "C:\\Users\\Anait Akopyan\\anaconda3\\lib\\site-packages\\seaborn\\distributions.py:2557: FutureWarning: `distplot` is a deprecated function and will be removed in a future version. Please adapt your code to use either `displot` (a figure-level function with similar flexibility) or `histplot` (an axes-level function for histograms).\n",
      "  warnings.warn(msg, FutureWarning)\n",
      "C:\\Users\\Anait Akopyan\\anaconda3\\lib\\site-packages\\seaborn\\distributions.py:2557: FutureWarning: `distplot` is a deprecated function and will be removed in a future version. Please adapt your code to use either `displot` (a figure-level function with similar flexibility) or `histplot` (an axes-level function for histograms).\n",
      "  warnings.warn(msg, FutureWarning)\n",
      "C:\\Users\\Anait Akopyan\\anaconda3\\lib\\site-packages\\seaborn\\distributions.py:2557: FutureWarning: `distplot` is a deprecated function and will be removed in a future version. Please adapt your code to use either `displot` (a figure-level function with similar flexibility) or `histplot` (an axes-level function for histograms).\n",
      "  warnings.warn(msg, FutureWarning)\n",
      "C:\\Users\\Anait Akopyan\\anaconda3\\lib\\site-packages\\seaborn\\distributions.py:2557: FutureWarning: `distplot` is a deprecated function and will be removed in a future version. Please adapt your code to use either `displot` (a figure-level function with similar flexibility) or `histplot` (an axes-level function for histograms).\n",
      "  warnings.warn(msg, FutureWarning)\n",
      "C:\\Users\\Anait Akopyan\\anaconda3\\lib\\site-packages\\seaborn\\distributions.py:2557: FutureWarning: `distplot` is a deprecated function and will be removed in a future version. Please adapt your code to use either `displot` (a figure-level function with similar flexibility) or `histplot` (an axes-level function for histograms).\n",
      "  warnings.warn(msg, FutureWarning)\n"
     ]
    },
    {
     "data": {
      "image/png": "[encoded data removed]",
      "text/plain": [
       "<Figure size 432x288 with 1 Axes>"
      ]
     },
     "metadata": {
      "needs_background": "light"
     },
     "output_type": "display_data"
    },
    {
     "name": "stderr",
     "output_type": "stream",
     "text": [
      "C:\\Users\\Anait Akopyan\\anaconda3\\lib\\site-packages\\seaborn\\distributions.py:2557: FutureWarning: `distplot` is a deprecated function and will be removed in a future version. Please adapt your code to use either `displot` (a figure-level function with similar flexibility) or `histplot` (an axes-level function for histograms).\n",
      "  warnings.warn(msg, FutureWarning)\n",
      "C:\\Users\\Anait Akopyan\\anaconda3\\lib\\site-packages\\seaborn\\distributions.py:2557: FutureWarning: `distplot` is a deprecated function and will be removed in a future version. Please adapt your code to use either `displot` (a figure-level function with similar flexibility) or `histplot` (an axes-level function for histograms).\n",
      "  warnings.warn(msg, FutureWarning)\n",
      "C:\\Users\\Anait Akopyan\\anaconda3\\lib\\site-packages\\seaborn\\distributions.py:2557: FutureWarning: `distplot` is a deprecated function and will be removed in a future version. Please adapt your code to use either `displot` (a figure-level function with similar flexibility) or `histplot` (an axes-level function for histograms).\n",
      "  warnings.warn(msg, FutureWarning)\n",
      "C:\\Users\\Anait Akopyan\\anaconda3\\lib\\site-packages\\seaborn\\distributions.py:2557: FutureWarning: `distplot` is a deprecated function and will be removed in a future version. Please adapt your code to use either `displot` (a figure-level function with similar flexibility) or `histplot` (an axes-level function for histograms).\n",
      "  warnings.warn(msg, FutureWarning)\n",
      "C:\\Users\\Anait Akopyan\\anaconda3\\lib\\site-packages\\seaborn\\distributions.py:2557: FutureWarning: `distplot` is a deprecated function and will be removed in a future version. Please adapt your code to use either `displot` (a figure-level function with similar flexibility) or `histplot` (an axes-level function for histograms).\n",
      "  warnings.warn(msg, FutureWarning)\n"
     ]
    },
    {
     "data": {
      "image/png": "[encoded data removed]",
      "text/plain": [
       "<Figure size 432x288 with 1 Axes>"
      ]
     },
     "metadata": {
      "needs_background": "light"
     },
     "output_type": "display_data"
    },
    {
     "name": "stderr",
     "output_type": "stream",
     "text": [
      "C:\\Users\\Anait Akopyan\\anaconda3\\lib\\site-packages\\seaborn\\distributions.py:2557: FutureWarning: `distplot` is a deprecated function and will be removed in a future version. Please adapt your code to use either `displot` (a figure-level function with similar flexibility) or `histplot` (an axes-level function for histograms).\n",
      "  warnings.warn(msg, FutureWarning)\n",
      "C:\\Users\\Anait Akopyan\\anaconda3\\lib\\site-packages\\seaborn\\distributions.py:2557: FutureWarning: `distplot` is a deprecated function and will be removed in a future version. Please adapt your code to use either `displot` (a figure-level function with similar flexibility) or `histplot` (an axes-level function for histograms).\n",
      "  warnings.warn(msg, FutureWarning)\n",
      "C:\\Users\\Anait Akopyan\\anaconda3\\lib\\site-packages\\seaborn\\distributions.py:2557: FutureWarning: `distplot` is a deprecated function and will be removed in a future version. Please adapt your code to use either `displot` (a figure-level function with similar flexibility) or `histplot` (an axes-level function for histograms).\n",
      "  warnings.warn(msg, FutureWarning)\n",
      "C:\\Users\\Anait Akopyan\\anaconda3\\lib\\site-packages\\seaborn\\distributions.py:2557: FutureWarning: `distplot` is a deprecated function and will be removed in a future version. Please adapt your code to use either `displot` (a figure-level function with similar flexibility) or `histplot` (an axes-level function for histograms).\n",
      "  warnings.warn(msg, FutureWarning)\n",
      "C:\\Users\\Anait Akopyan\\anaconda3\\lib\\site-packages\\seaborn\\distributions.py:2557: FutureWarning: `distplot` is a deprecated function and will be removed in a future version. Please adapt your code to use either `displot` (a figure-level function with similar flexibility) or `histplot` (an axes-level function for histograms).\n",
      "  warnings.warn(msg, FutureWarning)\n"
     ]
    },
    {
     "data": {
      "image/png": "[encoded data removed]",
      "text/plain": [
       "<Figure size 432x288 with 1 Axes>"
      ]
     },
     "metadata": {
      "needs_background": "light"
     },
     "output_type": "display_data"
    },
    {
     "name": "stderr",
     "output_type": "stream",
     "text": [
      "C:\\Users\\Anait Akopyan\\anaconda3\\lib\\site-packages\\seaborn\\distributions.py:2557: FutureWarning: `distplot` is a deprecated function and will be removed in a future version. Please adapt your code to use either `displot` (a figure-level function with similar flexibility) or `histplot` (an axes-level function for histograms).\n",
      "  warnings.warn(msg, FutureWarning)\n",
      "C:\\Users\\Anait Akopyan\\anaconda3\\lib\\site-packages\\seaborn\\distributions.py:2557: FutureWarning: `distplot` is a deprecated function and will be removed in a future version. Please adapt your code to use either `displot` (a figure-level function with similar flexibility) or `histplot` (an axes-level function for histograms).\n",
      "  warnings.warn(msg, FutureWarning)\n",
      "C:\\Users\\Anait Akopyan\\anaconda3\\lib\\site-packages\\seaborn\\distributions.py:2557: FutureWarning: `distplot` is a deprecated function and will be removed in a future version. Please adapt your code to use either `displot` (a figure-level function with similar flexibility) or `histplot` (an axes-level function for histograms).\n",
      "  warnings.warn(msg, FutureWarning)\n",
      "C:\\Users\\Anait Akopyan\\anaconda3\\lib\\site-packages\\seaborn\\distributions.py:2557: FutureWarning: `distplot` is a deprecated function and will be removed in a future version. Please adapt your code to use either `displot` (a figure-level function with similar flexibility) or `histplot` (an axes-level function for histograms).\n",
      "  warnings.warn(msg, FutureWarning)\n",
      "C:\\Users\\Anait Akopyan\\anaconda3\\lib\\site-packages\\seaborn\\distributions.py:2557: FutureWarning: `distplot` is a deprecated function and will be removed in a future version. Please adapt your code to use either `displot` (a figure-level function with similar flexibility) or `histplot` (an axes-level function for histograms).\n",
      "  warnings.warn(msg, FutureWarning)\n"
     ]
    },
    {
     "data": {
      "image/png": "[encoded data removed]",
      "text/plain": [
       "<Figure size 432x288 with 1 Axes>"
      ]
     },
     "metadata": {
      "needs_background": "light"
     },
     "output_type": "display_data"
    },
    {
     "name": "stderr",
     "output_type": "stream",
     "text": [
      "C:\\Users\\Anait Akopyan\\anaconda3\\lib\\site-packages\\seaborn\\distributions.py:2557: FutureWarning: `distplot` is a deprecated function and will be removed in a future version. Please adapt your code to use either `displot` (a figure-level function with similar flexibility) or `histplot` (an axes-level function for histograms).\n",
      "  warnings.warn(msg, FutureWarning)\n",
      "C:\\Users\\Anait Akopyan\\anaconda3\\lib\\site-packages\\seaborn\\distributions.py:2557: FutureWarning: `distplot` is a deprecated function and will be removed in a future version. Please adapt your code to use either `displot` (a figure-level function with similar flexibility) or `histplot` (an axes-level function for histograms).\n",
      "  warnings.warn(msg, FutureWarning)\n",
      "C:\\Users\\Anait Akopyan\\anaconda3\\lib\\site-packages\\seaborn\\distributions.py:2557: FutureWarning: `distplot` is a deprecated function and will be removed in a future version. Please adapt your code to use either `displot` (a figure-level function with similar flexibility) or `histplot` (an axes-level function for histograms).\n",
      "  warnings.warn(msg, FutureWarning)\n",
      "C:\\Users\\Anait Akopyan\\anaconda3\\lib\\site-packages\\seaborn\\distributions.py:2557: FutureWarning: `distplot` is a deprecated function and will be removed in a future version. Please adapt your code to use either `displot` (a figure-level function with similar flexibility) or `histplot` (an axes-level function for histograms).\n",
      "  warnings.warn(msg, FutureWarning)\n",
      "C:\\Users\\Anait Akopyan\\anaconda3\\lib\\site-packages\\seaborn\\distributions.py:2557: FutureWarning: `distplot` is a deprecated function and will be removed in a future version. Please adapt your code to use either `displot` (a figure-level function with similar flexibility) or `histplot` (an axes-level function for histograms).\n",
      "  warnings.warn(msg, FutureWarning)\n"
     ]
    },
    {
     "data": {
      "image/png": "[encoded data removed]",
      "text/plain": [
       "<Figure size 432x288 with 1 Axes>"
      ]
     },
     "metadata": {
      "needs_background": "light"
     },
     "output_type": "display_data"
    },
    {
     "name": "stderr",
     "output_type": "stream",
     "text": [
      "C:\\Users\\Anait Akopyan\\anaconda3\\lib\\site-packages\\seaborn\\distributions.py:2557: FutureWarning: `distplot` is a deprecated function and will be removed in a future version. Please adapt your code to use either `displot` (a figure-level function with similar flexibility) or `histplot` (an axes-level function for histograms).\n",
      "  warnings.warn(msg, FutureWarning)\n",
      "C:\\Users\\Anait Akopyan\\anaconda3\\lib\\site-packages\\seaborn\\distributions.py:2557: FutureWarning: `distplot` is a deprecated function and will be removed in a future version. Please adapt your code to use either `displot` (a figure-level function with similar flexibility) or `histplot` (an axes-level function for histograms).\n",
      "  warnings.warn(msg, FutureWarning)\n",
      "C:\\Users\\Anait Akopyan\\anaconda3\\lib\\site-packages\\seaborn\\distributions.py:2557: FutureWarning: `distplot` is a deprecated function and will be removed in a future version. Please adapt your code to use either `displot` (a figure-level function with similar flexibility) or `histplot` (an axes-level function for histograms).\n",
      "  warnings.warn(msg, FutureWarning)\n",
      "C:\\Users\\Anait Akopyan\\anaconda3\\lib\\site-packages\\seaborn\\distributions.py:2557: FutureWarning: `distplot` is a deprecated function and will be removed in a future version. Please adapt your code to use either `displot` (a figure-level function with similar flexibility) or `histplot` (an axes-level function for histograms).\n",
      "  warnings.warn(msg, FutureWarning)\n",
      "C:\\Users\\Anait Akopyan\\anaconda3\\lib\\site-packages\\seaborn\\distributions.py:2557: FutureWarning: `distplot` is a deprecated function and will be removed in a future version. Please adapt your code to use either `displot` (a figure-level function with similar flexibility) or `histplot` (an axes-level function for histograms).\n",
      "  warnings.warn(msg, FutureWarning)\n"
     ]
    },
    {
     "data": {
      "image/png": "[encoded data removed]",
      "text/plain": [
       "<Figure size 432x288 with 1 Axes>"
      ]
     },
     "metadata": {
      "needs_background": "light"
     },
     "output_type": "display_data"
    },
    {
     "name": "stderr",
     "output_type": "stream",
     "text": [
      "C:\\Users\\Anait Akopyan\\anaconda3\\lib\\site-packages\\seaborn\\distributions.py:2557: FutureWarning: `distplot` is a deprecated function and will be removed in a future version. Please adapt your code to use either `displot` (a figure-level function with similar flexibility) or `histplot` (an axes-level function for histograms).\n",
      "  warnings.warn(msg, FutureWarning)\n",
      "C:\\Users\\Anait Akopyan\\anaconda3\\lib\\site-packages\\seaborn\\distributions.py:2557: FutureWarning: `distplot` is a deprecated function and will be removed in a future version. Please adapt your code to use either `displot` (a figure-level function with similar flexibility) or `histplot` (an axes-level function for histograms).\n",
      "  warnings.warn(msg, FutureWarning)\n",
      "C:\\Users\\Anait Akopyan\\anaconda3\\lib\\site-packages\\seaborn\\distributions.py:2557: FutureWarning: `distplot` is a deprecated function and will be removed in a future version. Please adapt your code to use either `displot` (a figure-level function with similar flexibility) or `histplot` (an axes-level function for histograms).\n",
      "  warnings.warn(msg, FutureWarning)\n",
      "C:\\Users\\Anait Akopyan\\anaconda3\\lib\\site-packages\\seaborn\\distributions.py:2557: FutureWarning: `distplot` is a deprecated function and will be removed in a future version. Please adapt your code to use either `displot` (a figure-level function with similar flexibility) or `histplot` (an axes-level function for histograms).\n",
      "  warnings.warn(msg, FutureWarning)\n",
      "C:\\Users\\Anait Akopyan\\anaconda3\\lib\\site-packages\\seaborn\\distributions.py:2557: FutureWarning: `distplot` is a deprecated function and will be removed in a future version. Please adapt your code to use either `displot` (a figure-level function with similar flexibility) or `histplot` (an axes-level function for histograms).\n",
      "  warnings.warn(msg, FutureWarning)\n"
     ]
    },
    {
     "data": {
      "image/png": "[encoded data removed]",
      "text/plain": [
       "<Figure size 432x288 with 1 Axes>"
      ]
     },
     "metadata": {
      "needs_background": "light"
     },
     "output_type": "display_data"
    },
    {
     "name": "stderr",
     "output_type": "stream",
     "text": [
      "C:\\Users\\Anait Akopyan\\anaconda3\\lib\\site-packages\\seaborn\\distributions.py:2557: FutureWarning: `distplot` is a deprecated function and will be removed in a future version. Please adapt your code to use either `displot` (a figure-level function with similar flexibility) or `histplot` (an axes-level function for histograms).\n",
      "  warnings.warn(msg, FutureWarning)\n",
      "C:\\Users\\Anait Akopyan\\anaconda3\\lib\\site-packages\\seaborn\\distributions.py:2557: FutureWarning: `distplot` is a deprecated function and will be removed in a future version. Please adapt your code to use either `displot` (a figure-level function with similar flexibility) or `histplot` (an axes-level function for histograms).\n",
      "  warnings.warn(msg, FutureWarning)\n",
      "C:\\Users\\Anait Akopyan\\anaconda3\\lib\\site-packages\\seaborn\\distributions.py:2557: FutureWarning: `distplot` is a deprecated function and will be removed in a future version. Please adapt your code to use either `displot` (a figure-level function with similar flexibility) or `histplot` (an axes-level function for histograms).\n",
      "  warnings.warn(msg, FutureWarning)\n",
      "C:\\Users\\Anait Akopyan\\anaconda3\\lib\\site-packages\\seaborn\\distributions.py:2557: FutureWarning: `distplot` is a deprecated function and will be removed in a future version. Please adapt your code to use either `displot` (a figure-level function with similar flexibility) or `histplot` (an axes-level function for histograms).\n",
      "  warnings.warn(msg, FutureWarning)\n",
      "C:\\Users\\Anait Akopyan\\anaconda3\\lib\\site-packages\\seaborn\\distributions.py:2557: FutureWarning: `distplot` is a deprecated function and will be removed in a future version. Please adapt your code to use either `displot` (a figure-level function with similar flexibility) or `histplot` (an axes-level function for histograms).\n",
      "  warnings.warn(msg, FutureWarning)\n"
     ]
    },
    {
     "data": {
      "image/png": "[encoded data removed]",
      "text/plain": [
       "<Figure size 432x288 with 1 Axes>"
      ]
     },
     "metadata": {
      "needs_background": "light"
     },
     "output_type": "display_data"
    },
    {
     "name": "stderr",
     "output_type": "stream",
     "text": [
      "C:\\Users\\Anait Akopyan\\anaconda3\\lib\\site-packages\\seaborn\\distributions.py:2557: FutureWarning: `distplot` is a deprecated function and will be removed in a future version. Please adapt your code to use either `displot` (a figure-level function with similar flexibility) or `histplot` (an axes-level function for histograms).\n",
      "  warnings.warn(msg, FutureWarning)\n",
      "C:\\Users\\Anait Akopyan\\anaconda3\\lib\\site-packages\\seaborn\\distributions.py:2557: FutureWarning: `distplot` is a deprecated function and will be removed in a future version. Please adapt your code to use either `displot` (a figure-level function with similar flexibility) or `histplot` (an axes-level function for histograms).\n",
      "  warnings.warn(msg, FutureWarning)\n",
      "C:\\Users\\Anait Akopyan\\anaconda3\\lib\\site-packages\\seaborn\\distributions.py:2557: FutureWarning: `distplot` is a deprecated function and will be removed in a future version. Please adapt your code to use either `displot` (a figure-level function with similar flexibility) or `histplot` (an axes-level function for histograms).\n",
      "  warnings.warn(msg, FutureWarning)\n",
      "C:\\Users\\Anait Akopyan\\anaconda3\\lib\\site-packages\\seaborn\\distributions.py:2557: FutureWarning: `distplot` is a deprecated function and will be removed in a future version. Please adapt your code to use either `displot` (a figure-level function with similar flexibility) or `histplot` (an axes-level function for histograms).\n",
      "  warnings.warn(msg, FutureWarning)\n",
      "C:\\Users\\Anait Akopyan\\anaconda3\\lib\\site-packages\\seaborn\\distributions.py:2557: FutureWarning: `distplot` is a deprecated function and will be removed in a future version. Please adapt your code to use either `displot` (a figure-level function with similar flexibility) or `histplot` (an axes-level function for histograms).\n",
      "  warnings.warn(msg, FutureWarning)\n"
     ]
    },
    {
     "data": {
      "image/png": "[encoded data removed]",
      "text/plain": [
       "<Figure size 432x288 with 1 Axes>"
      ]
     },
     "metadata": {
      "needs_background": "light"
     },
     "output_type": "display_data"
    },
    {
     "name": "stderr",
     "output_type": "stream",
     "text": [
      "C:\\Users\\Anait Akopyan\\anaconda3\\lib\\site-packages\\seaborn\\distributions.py:2557: FutureWarning: `distplot` is a deprecated function and will be removed in a future version. Please adapt your code to use either `displot` (a figure-level function with similar flexibility) or `histplot` (an axes-level function for histograms).\n",
      "  warnings.warn(msg, FutureWarning)\n",
      "C:\\Users\\Anait Akopyan\\anaconda3\\lib\\site-packages\\seaborn\\distributions.py:2557: FutureWarning: `distplot` is a deprecated function and will be removed in a future version. Please adapt your code to use either `displot` (a figure-level function with similar flexibility) or `histplot` (an axes-level function for histograms).\n",
      "  warnings.warn(msg, FutureWarning)\n",
      "C:\\Users\\Anait Akopyan\\anaconda3\\lib\\site-packages\\seaborn\\distributions.py:2557: FutureWarning: `distplot` is a deprecated function and will be removed in a future version. Please adapt your code to use either `displot` (a figure-level function with similar flexibility) or `histplot` (an axes-level function for histograms).\n",
      "  warnings.warn(msg, FutureWarning)\n",
      "C:\\Users\\Anait Akopyan\\anaconda3\\lib\\site-packages\\seaborn\\distributions.py:2557: FutureWarning: `distplot` is a deprecated function and will be removed in a future version. Please adapt your code to use either `displot` (a figure-level function with similar flexibility) or `histplot` (an axes-level function for histograms).\n",
      "  warnings.warn(msg, FutureWarning)\n",
      "C:\\Users\\Anait Akopyan\\anaconda3\\lib\\site-packages\\seaborn\\distributions.py:2557: FutureWarning: `distplot` is a deprecated function and will be removed in a future version. Please adapt your code to use either `displot` (a figure-level function with similar flexibility) or `histplot` (an axes-level function for histograms).\n",
      "  warnings.warn(msg, FutureWarning)\n"
     ]
    },
    {
     "data": {
      "image/png": "[encoded data removed]",
      "text/plain": [
       "<Figure size 432x288 with 1 Axes>"
      ]
     },
     "metadata": {
      "needs_background": "light"
     },
     "output_type": "display_data"
    },
    {
     "name": "stderr",
     "output_type": "stream",
     "text": [
      "C:\\Users\\Anait Akopyan\\anaconda3\\lib\\site-packages\\seaborn\\distributions.py:2557: FutureWarning: `distplot` is a deprecated function and will be removed in a future version. Please adapt your code to use either `displot` (a figure-level function with similar flexibility) or `histplot` (an axes-level function for histograms).\n",
      "  warnings.warn(msg, FutureWarning)\n",
      "C:\\Users\\Anait Akopyan\\anaconda3\\lib\\site-packages\\seaborn\\distributions.py:2557: FutureWarning: `distplot` is a deprecated function and will be removed in a future version. Please adapt your code to use either `displot` (a figure-level function with similar flexibility) or `histplot` (an axes-level function for histograms).\n",
      "  warnings.warn(msg, FutureWarning)\n",
      "C:\\Users\\Anait Akopyan\\anaconda3\\lib\\site-packages\\seaborn\\distributions.py:2557: FutureWarning: `distplot` is a deprecated function and will be removed in a future version. Please adapt your code to use either `displot` (a figure-level function with similar flexibility) or `histplot` (an axes-level function for histograms).\n",
      "  warnings.warn(msg, FutureWarning)\n",
      "C:\\Users\\Anait Akopyan\\anaconda3\\lib\\site-packages\\seaborn\\distributions.py:2557: FutureWarning: `distplot` is a deprecated function and will be removed in a future version. Please adapt your code to use either `displot` (a figure-level function with similar flexibility) or `histplot` (an axes-level function for histograms).\n",
      "  warnings.warn(msg, FutureWarning)\n",
      "C:\\Users\\Anait Akopyan\\anaconda3\\lib\\site-packages\\seaborn\\distributions.py:2557: FutureWarning: `distplot` is a deprecated function and will be removed in a future version. Please adapt your code to use either `displot` (a figure-level function with similar flexibility) or `histplot` (an axes-level function for histograms).\n",
      "  warnings.warn(msg, FutureWarning)\n"
     ]
    },
    {
     "data": {
      "image/png": "[encoded data removed]",
      "text/plain": [
       "<Figure size 432x288 with 1 Axes>"
      ]
     },
     "metadata": {
      "needs_background": "light"
     },
     "output_type": "display_data"
    },
    {
     "name": "stderr",
     "output_type": "stream",
     "text": [
      "C:\\Users\\Anait Akopyan\\anaconda3\\lib\\site-packages\\seaborn\\distributions.py:2557: FutureWarning: `distplot` is a deprecated function and will be removed in a future version. Please adapt your code to use either `displot` (a figure-level function with similar flexibility) or `histplot` (an axes-level function for histograms).\n",
      "  warnings.warn(msg, FutureWarning)\n",
      "C:\\Users\\Anait Akopyan\\anaconda3\\lib\\site-packages\\seaborn\\distributions.py:2557: FutureWarning: `distplot` is a deprecated function and will be removed in a future version. Please adapt your code to use either `displot` (a figure-level function with similar flexibility) or `histplot` (an axes-level function for histograms).\n",
      "  warnings.warn(msg, FutureWarning)\n",
      "C:\\Users\\Anait Akopyan\\anaconda3\\lib\\site-packages\\seaborn\\distributions.py:2557: FutureWarning: `distplot` is a deprecated function and will be removed in a future version. Please adapt your code to use either `displot` (a figure-level function with similar flexibility) or `histplot` (an axes-level function for histograms).\n",
      "  warnings.warn(msg, FutureWarning)\n",
      "C:\\Users\\Anait Akopyan\\anaconda3\\lib\\site-packages\\seaborn\\distributions.py:2557: FutureWarning: `distplot` is a deprecated function and will be removed in a future version. Please adapt your code to use either `displot` (a figure-level function with similar flexibility) or `histplot` (an axes-level function for histograms).\n",
      "  warnings.warn(msg, FutureWarning)\n",
      "C:\\Users\\Anait Akopyan\\anaconda3\\lib\\site-packages\\seaborn\\distributions.py:2557: FutureWarning: `distplot` is a deprecated function and will be removed in a future version. Please adapt your code to use either `displot` (a figure-level function with similar flexibility) or `histplot` (an axes-level function for histograms).\n",
      "  warnings.warn(msg, FutureWarning)\n"
     ]
    },
    {
     "data": {
      "image/png": "[encoded data removed]",
      "text/plain": [
       "<Figure size 432x288 with 1 Axes>"
      ]
     },
     "metadata": {
      "needs_background": "light"
     },
     "output_type": "display_data"
    },
    {
     "name": "stderr",
     "output_type": "stream",
     "text": [
      "C:\\Users\\Anait Akopyan\\anaconda3\\lib\\site-packages\\seaborn\\distributions.py:2557: FutureWarning: `distplot` is a deprecated function and will be removed in a future version. Please adapt your code to use either `displot` (a figure-level function with similar flexibility) or `histplot` (an axes-level function for histograms).\n",
      "  warnings.warn(msg, FutureWarning)\n",
      "C:\\Users\\Anait Akopyan\\anaconda3\\lib\\site-packages\\seaborn\\distributions.py:2557: FutureWarning: `distplot` is a deprecated function and will be removed in a future version. Please adapt your code to use either `displot` (a figure-level function with similar flexibility) or `histplot` (an axes-level function for histograms).\n",
      "  warnings.warn(msg, FutureWarning)\n",
      "C:\\Users\\Anait Akopyan\\anaconda3\\lib\\site-packages\\seaborn\\distributions.py:2557: FutureWarning: `distplot` is a deprecated function and will be removed in a future version. Please adapt your code to use either `displot` (a figure-level function with similar flexibility) or `histplot` (an axes-level function for histograms).\n",
      "  warnings.warn(msg, FutureWarning)\n",
      "C:\\Users\\Anait Akopyan\\anaconda3\\lib\\site-packages\\seaborn\\distributions.py:2557: FutureWarning: `distplot` is a deprecated function and will be removed in a future version. Please adapt your code to use either `displot` (a figure-level function with similar flexibility) or `histplot` (an axes-level function for histograms).\n",
      "  warnings.warn(msg, FutureWarning)\n",
      "C:\\Users\\Anait Akopyan\\anaconda3\\lib\\site-packages\\seaborn\\distributions.py:2557: FutureWarning: `distplot` is a deprecated function and will be removed in a future version. Please adapt your code to use either `displot` (a figure-level function with similar flexibility) or `histplot` (an axes-level function for histograms).\n",
      "  warnings.warn(msg, FutureWarning)\n"
     ]
    },
    {
     "data": {
      "image/png": "[encoded data removed]",
      "text/plain": [
       "<Figure size 432x288 with 1 Axes>"
      ]
     },
     "metadata": {
      "needs_background": "light"
     },
     "output_type": "display_data"
    }
   ],
   "source": [
    "\n",
    "import seaborn as sns\n",
    "data_nochurn=data.drop(columns='Churn')\n",
    "plt.title('distributions of features for the clusters', fontsize=15)\n",
    "plt.palette=\"tab10\"\n",
    "for name in data_nochurn.columns:\n",
    "    for i in range(0,5):\n",
    "        ax = sns.distplot(data_nochurn[name].loc[data_nochurn['cluster_km']==i], kde=False, norm_hist=True, bins=20, label=i)\n",
    "        ax.legend()\n",
    "    \n",
    "    plt.show()\n"
   ]
  },
  {
   "cell_type": "code",
   "execution_count": 36,
   "id": "c0ff8e90",
   "metadata": {},
   "outputs": [
    {
     "data": {
      "text/plain": [
       "2    1540\n",
       "0     892\n",
       "1     659\n",
       "3     523\n",
       "4     386\n",
       "Name: cluster_km, dtype: int64"
      ]
     },
     "execution_count": 36,
     "metadata": {},
     "output_type": "execute_result"
    }
   ],
   "source": [
    "data['cluster_km'].value_counts()"
   ]
  },
  {
   "cell_type": "markdown",
   "id": "4ba50ee3",
   "metadata": {},
   "source": [
    "yet we can clearly see that:\n",
    " - gender doesnt affect churn\n",
    " - the largest cluster is 2 - 1540 users. But it has almost the highest churn - 36%\n",
    " - The second large cluster is 0 with 892 users and it has the lowest churn - only 2%, lets name it 'loyal cluster'\n",
    " - the cluster with the highest churn(43%) is 3, lets name the cluster 'prone to leaving'\n",
    " - the only cluster located away from the gym is 2 'prone to leaving' cluster\n",
    " - the 'loyal cluster' is twice smaller than the biggest 'prone to leaving' cluster\n",
    " - most of the users live or work near the gym\n",
    " - the 'partner companies discount' holders are almost half of all users\n",
    " - about 2/3 of all users were signed up using \"bring a friend\" offer\n",
    " - majority of users (apart from cluster 4) provided their phone number\n",
    " - about half of all users have 1 month membership. about 1000 out of 4000 have 1 year membership and almost all of thee users are from cluster 'loyal cluster'\n",
    " - almost 2500 users out of 4000 attend group training\n",
    " - 25-35 y o is an average user age\n",
    " - majority of users have 1 month till the end of the contract. 7 and more months till the end memberships belong to 'loyal cluster'\n",
    " - the majority - 900 users came to the gym 2 months ago"
   ]
  },
  {
   "cell_type": "markdown",
   "id": "c5156dcf",
   "metadata": {},
   "source": [
    "## Step 4. Overall conclusion and basic recommendations on working with customers <a class=\"tocSkip\">\n"
   ]
  },
  {
   "cell_type": "markdown",
   "id": "c03b2e74",
   "metadata": {},
   "source": [
    "we analyze 4000 user profiles and base on that we can conclude:\n",
    "- based on the cluster algorithm we got the result of 1540 out of 4000 that have 36% of 'prone to leaving'\n",
    "- the loyal group is 892 users\n",
    "- gender doesnt affect the churn\n",
    "- all users that 'prone to leaving' live or work far away from the gym. In order to reduce the churn we can try to offer them a membership to another gym from our chain which is close to the user's location\n",
    "-  users from 'prone to leaving' cluster didnt provide their phone numbers. Try to check it up and find out what was the reason. They might miss the offers and discounts from the gym and that might be a reason of leaving.\n",
    "- partner company discount as well as friend's promo code can also attract users. However, its not always the crucial factor to keep being a gym user. A very big number of users has already used the offers - almost a half of them - partner company discount and 2/3 of users friend's promo code.\n",
    "- another feature to reduce churn is long term membership - the 'loyal cluster' has only users with 1 year membership as soon as cluster 3 and cluster 2 - that tend to 'prone to leaving' - mainly are 1 or 2 months membership holders.\n",
    "- the analysis of the time (in months) since the customer first came to the gym shows that the longer a customer is a gym user the more loyal he becomes. That means we need to really focus on the newcomers trying to attract them"
   ]
  },
  {
   "cell_type": "code",
   "execution_count": null,
   "id": "905b4b43",
   "metadata": {},
   "outputs": [],
   "source": []
  }
 ],
 "metadata": {
  "ExecuteTimeLog": [
   {
    "duration": 1911,
    "start_time": "2021-11-12T20:23:37.680Z"
   },
   {
    "duration": 33,
    "start_time": "2021-11-12T20:23:39.594Z"
   },
   {
    "duration": 11,
    "start_time": "2021-11-12T20:23:43.441Z"
   },
   {
    "duration": 10,
    "start_time": "2021-11-12T20:23:45.008Z"
   },
   {
    "duration": 5,
    "start_time": "2021-11-12T20:23:46.521Z"
   },
   {
    "duration": 14,
    "start_time": "2021-11-12T20:23:47.310Z"
   },
   {
    "duration": 72,
    "start_time": "2021-11-12T20:23:49.181Z"
   },
   {
    "duration": 8,
    "start_time": "2021-11-12T20:23:50.844Z"
   },
   {
    "duration": 16,
    "start_time": "2021-11-12T20:23:52.309Z"
   },
   {
    "duration": 6,
    "start_time": "2021-11-12T20:23:53.996Z"
   },
   {
    "duration": 10,
    "start_time": "2021-11-12T20:23:56.200Z"
   },
   {
    "duration": 4464,
    "start_time": "2021-11-12T20:23:56.830Z"
   },
   {
    "duration": 1826,
    "start_time": "2021-11-12T20:24:01.297Z"
   },
   {
    "duration": 6,
    "start_time": "2021-11-12T20:24:05.079Z"
   },
   {
    "duration": 8,
    "start_time": "2021-11-12T20:24:06.315Z"
   },
   {
    "duration": 10,
    "start_time": "2021-11-12T20:24:07.023Z"
   },
   {
    "duration": 9,
    "start_time": "2021-11-12T20:24:07.737Z"
   },
   {
    "duration": 24,
    "start_time": "2021-11-12T20:24:08.689Z"
   },
   {
    "duration": 5,
    "start_time": "2021-11-12T20:24:14.234Z"
   },
   {
    "duration": 7,
    "start_time": "2021-11-12T20:24:16.388Z"
   },
   {
    "duration": 7,
    "start_time": "2021-11-12T20:24:17.361Z"
   },
   {
    "duration": 17,
    "start_time": "2021-11-12T20:24:18.387Z"
   },
   {
    "duration": 18,
    "start_time": "2021-11-12T20:24:19.136Z"
   },
   {
    "duration": 14,
    "start_time": "2021-11-12T20:24:19.788Z"
   },
   {
    "duration": 444,
    "start_time": "2021-11-12T20:24:20.558Z"
   },
   {
    "duration": 74,
    "start_time": "2021-11-12T20:24:21.738Z"
   },
   {
    "duration": 9,
    "start_time": "2021-11-12T20:24:24.548Z"
   },
   {
    "duration": 521,
    "start_time": "2021-11-12T20:24:25.636Z"
   },
   {
    "duration": 384,
    "start_time": "2021-11-12T20:24:26.215Z"
   },
   {
    "duration": 8,
    "start_time": "2021-11-12T20:24:46.452Z"
   },
   {
    "duration": 953,
    "start_time": "2021-11-12T20:24:49.212Z"
   },
   {
    "duration": 155671,
    "start_time": "2021-11-12T20:24:53.146Z"
   },
   {
    "duration": 3,
    "start_time": "2021-11-12T20:27:28.820Z"
   },
   {
    "duration": 1682,
    "start_time": "2021-11-12T20:27:28.826Z"
   },
   {
    "duration": 5,
    "start_time": "2021-11-12T20:27:30.511Z"
   },
   {
    "duration": 34,
    "start_time": "2021-11-12T20:27:30.519Z"
   },
   {
    "duration": 1270,
    "start_time": "2021-11-12T20:27:30.555Z"
   },
   {
    "duration": 137,
    "start_time": "2021-11-12T20:38:20.171Z"
   },
   {
    "duration": 167,
    "start_time": "2021-11-12T20:38:26.235Z"
   },
   {
    "duration": 122,
    "start_time": "2021-11-12T20:39:57.154Z"
   },
   {
    "duration": 415,
    "start_time": "2021-11-12T20:40:02.469Z"
   },
   {
    "duration": 492,
    "start_time": "2021-11-12T20:40:20.434Z"
   },
   {
    "duration": 124,
    "start_time": "2021-11-12T20:41:19.799Z"
   },
   {
    "duration": 5849,
    "start_time": "2021-11-12T20:41:40.013Z"
   },
   {
    "duration": 4812,
    "start_time": "2021-11-12T20:41:52.742Z"
   },
   {
    "duration": 4309,
    "start_time": "2021-11-12T20:44:10.060Z"
   },
   {
    "duration": 4217,
    "start_time": "2021-11-12T20:45:00.462Z"
   },
   {
    "duration": 4264,
    "start_time": "2021-11-12T20:45:14.805Z"
   },
   {
    "duration": 4162,
    "start_time": "2021-11-12T20:46:20.162Z"
   },
   {
    "duration": 4279,
    "start_time": "2021-11-12T20:46:38.683Z"
   },
   {
    "duration": 4420,
    "start_time": "2021-11-12T20:53:25.946Z"
   },
   {
    "duration": 130,
    "start_time": "2021-11-12T20:54:02.983Z"
   },
   {
    "duration": 4566,
    "start_time": "2021-11-12T20:54:12.182Z"
   },
   {
    "duration": 5946,
    "start_time": "2021-11-12T20:55:35.060Z"
   },
   {
    "duration": 832,
    "start_time": "2021-11-12T20:55:43.694Z"
   },
   {
    "duration": 816,
    "start_time": "2021-11-12T20:56:00.773Z"
   },
   {
    "duration": 856,
    "start_time": "2021-11-12T20:58:52.524Z"
   },
   {
    "duration": 806,
    "start_time": "2021-11-12T20:59:04.069Z"
   },
   {
    "duration": 391,
    "start_time": "2021-11-12T21:00:33.134Z"
   },
   {
    "duration": 439,
    "start_time": "2021-11-12T21:01:08.188Z"
   },
   {
    "duration": 398,
    "start_time": "2021-11-12T21:01:14.514Z"
   },
   {
    "duration": 391,
    "start_time": "2021-11-12T21:01:49.632Z"
   },
   {
    "duration": 5327,
    "start_time": "2021-11-12T21:02:29.241Z"
   },
   {
    "duration": 4257,
    "start_time": "2021-11-12T21:03:38.725Z"
   },
   {
    "duration": 4178,
    "start_time": "2021-11-12T21:06:00.076Z"
   },
   {
    "duration": 378,
    "start_time": "2021-11-12T21:06:37.686Z"
   },
   {
    "duration": 5,
    "start_time": "2021-11-12T21:06:54.555Z"
   },
   {
    "duration": 4779,
    "start_time": "2021-11-12T21:09:49.857Z"
   },
   {
    "duration": 6,
    "start_time": "2021-11-12T21:10:07.658Z"
   },
   {
    "duration": 3773,
    "start_time": "2021-11-12T21:12:27.799Z"
   },
   {
    "duration": 3349,
    "start_time": "2021-11-12T21:13:21.071Z"
   },
   {
    "duration": 13058,
    "start_time": "2021-11-12T21:13:24.423Z"
   },
   {
    "duration": 390,
    "start_time": "2021-11-12T21:15:25.995Z"
   },
   {
    "duration": 388,
    "start_time": "2021-11-12T21:15:38.133Z"
   },
   {
    "duration": 397,
    "start_time": "2021-11-12T21:16:29.560Z"
   },
   {
    "duration": 418,
    "start_time": "2021-11-12T21:20:04.072Z"
   },
   {
    "duration": 408,
    "start_time": "2021-11-12T21:20:19.524Z"
   },
   {
    "duration": 396,
    "start_time": "2021-11-12T21:20:53.423Z"
   },
   {
    "duration": 458,
    "start_time": "2021-11-12T21:25:44.083Z"
   },
   {
    "duration": 3961,
    "start_time": "2021-11-12T21:26:56.472Z"
   },
   {
    "duration": 3360,
    "start_time": "2021-11-12T21:27:09.246Z"
   },
   {
    "duration": 372,
    "start_time": "2021-11-12T21:27:12.610Z"
   },
   {
    "duration": 2676,
    "start_time": "2021-11-12T21:28:20.739Z"
   },
   {
    "duration": 3668,
    "start_time": "2021-11-12T21:28:34.118Z"
   },
   {
    "duration": 399,
    "start_time": "2021-11-12T21:28:53.299Z"
   },
   {
    "duration": 3938,
    "start_time": "2021-11-12T21:29:09.389Z"
   },
   {
    "duration": 5,
    "start_time": "2021-11-12T21:32:59.868Z"
   },
   {
    "duration": 6,
    "start_time": "2021-11-12T21:38:38.045Z"
   },
   {
    "duration": 468,
    "start_time": "2021-11-12T21:38:48.986Z"
   },
   {
    "duration": 6,
    "start_time": "2021-11-12T21:42:27.084Z"
   },
   {
    "duration": 6,
    "start_time": "2021-11-12T21:42:44.434Z"
   },
   {
    "duration": 407,
    "start_time": "2021-11-12T21:45:11.165Z"
   },
   {
    "duration": 778,
    "start_time": "2021-11-12T21:47:07.588Z"
   },
   {
    "duration": 1177,
    "start_time": "2021-11-12T21:52:47.927Z"
   },
   {
    "duration": 900,
    "start_time": "2021-11-12T21:53:52.511Z"
   },
   {
    "duration": 947,
    "start_time": "2021-11-12T21:55:33.015Z"
   },
   {
    "duration": 3509,
    "start_time": "2021-11-12T21:55:43.025Z"
   },
   {
    "duration": 779,
    "start_time": "2021-11-12T21:57:59.204Z"
   },
   {
    "duration": 5,
    "start_time": "2021-11-12T22:00:04.184Z"
   },
   {
    "duration": 765,
    "start_time": "2021-11-12T22:00:45.159Z"
   },
   {
    "duration": 935,
    "start_time": "2021-11-12T22:01:02.307Z"
   },
   {
    "duration": 837,
    "start_time": "2021-11-12T22:01:20.125Z"
   },
   {
    "duration": 854,
    "start_time": "2021-11-12T22:01:29.728Z"
   },
   {
    "duration": 6802,
    "start_time": "2021-11-12T22:01:36.183Z"
   },
   {
    "duration": 384,
    "start_time": "2021-11-12T22:02:02.956Z"
   },
   {
    "duration": 6519,
    "start_time": "2021-11-12T22:03:49.895Z"
   },
   {
    "duration": 6389,
    "start_time": "2021-11-12T22:04:40.794Z"
   },
   {
    "duration": 813,
    "start_time": "2021-11-12T22:05:35.715Z"
   },
   {
    "duration": 824,
    "start_time": "2021-11-12T22:08:12.369Z"
   },
   {
    "duration": 6502,
    "start_time": "2021-11-12T22:09:02.327Z"
   },
   {
    "duration": 883,
    "start_time": "2021-11-12T22:09:36.249Z"
   },
   {
    "duration": 6353,
    "start_time": "2021-11-12T22:11:06.700Z"
   },
   {
    "duration": 9014,
    "start_time": "2021-11-12T22:12:04.173Z"
   },
   {
    "duration": 815,
    "start_time": "2021-11-12T22:13:41.907Z"
   },
   {
    "duration": 6281,
    "start_time": "2021-11-12T22:14:35.784Z"
   },
   {
    "duration": 6431,
    "start_time": "2021-11-12T22:16:06.229Z"
   },
   {
    "duration": 6466,
    "start_time": "2021-11-12T22:17:19.605Z"
   },
   {
    "duration": 315235,
    "start_time": "2021-11-12T22:22:48.338Z"
   },
   {
    "duration": 55072,
    "start_time": "2021-11-12T22:28:18.838Z"
   },
   {
    "duration": 5218,
    "start_time": "2021-11-12T22:33:38.948Z"
   },
   {
    "duration": 1531,
    "start_time": "2021-11-12T22:35:32.377Z"
   },
   {
    "duration": 1933,
    "start_time": "2021-11-12T22:36:10.726Z"
   },
   {
    "duration": 4221,
    "start_time": "2021-11-12T22:36:31.335Z"
   },
   {
    "duration": 243,
    "start_time": "2021-11-12T22:43:36.356Z"
   },
   {
    "duration": 137,
    "start_time": "2021-11-12T22:43:37.778Z"
   },
   {
    "duration": 888,
    "start_time": "2021-11-12T22:43:44.792Z"
   },
   {
    "duration": 105094,
    "start_time": "2021-11-12T22:43:54.462Z"
   },
   {
    "duration": 240,
    "start_time": "2021-11-12T22:50:20.882Z"
   },
   {
    "duration": 8435,
    "start_time": "2021-11-12T22:53:34.031Z"
   },
   {
    "duration": 8680,
    "start_time": "2021-11-12T22:54:20.687Z"
   },
   {
    "duration": 8721,
    "start_time": "2021-11-12T22:54:39.864Z"
   },
   {
    "duration": 386,
    "start_time": "2021-11-12T22:55:45.886Z"
   },
   {
    "duration": 906,
    "start_time": "2021-11-12T22:56:53.370Z"
   },
   {
    "duration": 905,
    "start_time": "2021-11-12T22:57:03.508Z"
   },
   {
    "duration": 8421,
    "start_time": "2021-11-12T22:57:18.065Z"
   },
   {
    "duration": 429,
    "start_time": "2021-11-12T22:58:08.018Z"
   },
   {
    "duration": 862,
    "start_time": "2021-11-12T22:59:14.051Z"
   },
   {
    "duration": 871,
    "start_time": "2021-11-12T22:59:37.022Z"
   },
   {
    "duration": 12858,
    "start_time": "2021-11-12T22:59:56.201Z"
   },
   {
    "duration": 6,
    "start_time": "2021-11-12T23:00:53.761Z"
   },
   {
    "duration": 6,
    "start_time": "2021-11-12T23:00:58.363Z"
   },
   {
    "duration": 6,
    "start_time": "2021-11-12T23:01:05.010Z"
   },
   {
    "duration": 27,
    "start_time": "2021-11-12T23:01:09.382Z"
   },
   {
    "duration": 8702,
    "start_time": "2021-11-12T23:01:35.029Z"
   },
   {
    "duration": 8552,
    "start_time": "2021-11-12T23:03:10.623Z"
   },
   {
    "duration": 397,
    "start_time": "2021-11-12T23:03:43.980Z"
   },
   {
    "duration": 395,
    "start_time": "2021-11-12T23:04:27.677Z"
   },
   {
    "duration": 427,
    "start_time": "2021-11-12T23:11:44.438Z"
   },
   {
    "duration": 2691,
    "start_time": "2021-11-12T23:12:00.406Z"
   },
   {
    "duration": 2667,
    "start_time": "2021-11-12T23:13:54.036Z"
   },
   {
    "duration": 373,
    "start_time": "2021-11-12T23:22:59.235Z"
   },
   {
    "duration": 367,
    "start_time": "2021-11-12T23:23:09.770Z"
   },
   {
    "duration": 754,
    "start_time": "2021-11-12T23:23:18.896Z"
   },
   {
    "duration": 874,
    "start_time": "2021-11-12T23:24:10.729Z"
   },
   {
    "duration": 395,
    "start_time": "2021-11-12T23:24:53.503Z"
   },
   {
    "duration": 6647,
    "start_time": "2021-11-12T23:25:18.430Z"
   },
   {
    "duration": 6643,
    "start_time": "2021-11-12T23:26:04.657Z"
   },
   {
    "duration": 6317,
    "start_time": "2021-11-12T23:26:22.055Z"
   },
   {
    "duration": 6318,
    "start_time": "2021-11-12T23:28:21.919Z"
   },
   {
    "duration": 386,
    "start_time": "2021-11-12T23:29:39.133Z"
   },
   {
    "duration": 5129,
    "start_time": "2021-11-12T23:33:22.946Z"
   },
   {
    "duration": 6564,
    "start_time": "2021-11-12T23:33:32.354Z"
   },
   {
    "duration": 7,
    "start_time": "2021-11-12T23:37:45.718Z"
   },
   {
    "duration": 6,
    "start_time": "2021-11-12T23:38:00.405Z"
   },
   {
    "duration": 393,
    "start_time": "2021-11-12T23:38:04.569Z"
   },
   {
    "duration": 25,
    "start_time": "2021-11-12T23:38:15.535Z"
   },
   {
    "duration": 383,
    "start_time": "2021-11-12T23:38:35.698Z"
   },
   {
    "duration": 392,
    "start_time": "2021-11-12T23:38:49.823Z"
   },
   {
    "duration": 13,
    "start_time": "2021-11-12T23:40:30.917Z"
   },
   {
    "duration": 15,
    "start_time": "2021-11-12T23:40:36.622Z"
   },
   {
    "duration": 22994,
    "start_time": "2021-11-12T23:41:06.472Z"
   },
   {
    "duration": 6959,
    "start_time": "2021-11-12T23:42:18.641Z"
   },
   {
    "duration": 790,
    "start_time": "2021-11-12T23:42:39.745Z"
   },
   {
    "duration": 8,
    "start_time": "2021-11-12T23:43:04.989Z"
   },
   {
    "duration": 146,
    "start_time": "2021-11-12T23:43:54.914Z"
   },
   {
    "duration": 120,
    "start_time": "2021-11-12T23:44:05.635Z"
   },
   {
    "duration": 385,
    "start_time": "2021-11-12T23:44:16.336Z"
   },
   {
    "duration": 9,
    "start_time": "2021-11-12T23:44:50.251Z"
   },
   {
    "duration": 134,
    "start_time": "2021-11-12T23:49:41.274Z"
   },
   {
    "duration": 7,
    "start_time": "2021-11-12T23:49:45.927Z"
   },
   {
    "duration": 789,
    "start_time": "2021-11-12T23:50:18.176Z"
   },
   {
    "duration": 1479,
    "start_time": "2021-11-12T23:50:29.981Z"
   },
   {
    "duration": 149,
    "start_time": "2021-11-12T23:51:59.432Z"
   },
   {
    "duration": 259,
    "start_time": "2021-11-12T23:52:29.013Z"
   },
   {
    "duration": 146921,
    "start_time": "2021-11-12T23:52:35.656Z"
   },
   {
    "duration": 146,
    "start_time": "2021-11-12T23:55:02.434Z"
   },
   {
    "duration": 28,
    "start_time": "2021-11-12T23:55:03.070Z"
   },
   {
    "duration": 9,
    "start_time": "2021-11-12T23:55:44.430Z"
   },
   {
    "duration": 396,
    "start_time": "2021-11-12T23:56:17.501Z"
   },
   {
    "duration": 17767,
    "start_time": "2021-11-12T23:56:23.552Z"
   },
   {
    "duration": 15060,
    "start_time": "2021-11-12T23:57:20.924Z"
   },
   {
    "duration": 14189,
    "start_time": "2021-11-12T23:59:51.241Z"
   },
   {
    "duration": 414,
    "start_time": "2021-11-13T00:00:56.299Z"
   },
   {
    "duration": 14049,
    "start_time": "2021-11-13T00:01:00.530Z"
   },
   {
    "duration": 16332,
    "start_time": "2021-11-13T00:02:01.181Z"
   },
   {
    "duration": 927,
    "start_time": "2021-11-13T00:04:31.739Z"
   },
   {
    "duration": 15736,
    "start_time": "2021-11-13T00:04:42.333Z"
   },
   {
    "duration": 26,
    "start_time": "2021-11-13T00:05:22.929Z"
   },
   {
    "duration": 18626,
    "start_time": "2021-11-13T00:06:54.466Z"
   },
   {
    "duration": 15951,
    "start_time": "2021-11-13T00:07:42.451Z"
   },
   {
    "duration": 16108,
    "start_time": "2021-11-13T00:08:42.592Z"
   },
   {
    "duration": 11061,
    "start_time": "2021-11-13T00:09:32.528Z"
   }
  ],
  "kernelspec": {
   "display_name": "Python 3",
   "language": "python",
   "name": "python3"
  },
  "language_info": {
   "codemirror_mode": {
    "name": "ipython",
    "version": 3
   },
   "file_extension": ".py",
   "mimetype": "text/x-python",
   "name": "python",
   "nbconvert_exporter": "python",
   "pygments_lexer": "ipython3",
   "version": "3.8.8"
  },
  "toc": {
   "base_numbering": 1,
   "nav_menu": {},
   "number_sections": true,
   "sideBar": true,
   "skip_h1_title": true,
   "title_cell": "Table of Contents",
   "title_sidebar": "Contents",
   "toc_cell": false,
   "toc_position": {},
   "toc_section_display": true,
   "toc_window_display": false
  }
 },
 "nbformat": 4,
 "nbformat_minor": 5
}
